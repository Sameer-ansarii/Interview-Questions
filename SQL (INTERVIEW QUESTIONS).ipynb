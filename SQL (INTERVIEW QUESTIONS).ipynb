{
 "cells": [
  {
   "cell_type": "markdown",
   "id": "3fbbc76f",
   "metadata": {},
   "source": [
    "Q) What is SQL and it's use?\n",
    "\n",
    "\n",
    "Q) What is MYSQL and it's use?\n",
    "\n",
    "\n",
    "Q) Difference between SQL and MYSQL.\n",
    "\n",
    "\n",
    "Q) You have a table which have 4 different columns, such as ID, Age, Marks, Country. Write a query in SQL to see that how many students belong to each country.\n",
    "\n",
    "Q) In a table we have 2 columns, such as 'ID' and 'Name' and 'ID' columns contains mutliple duplicate values. Write a query in SQL to see the duplicate rows. \n",
    "\n",
    "\n",
    "Q) How to fetch unique records from a table in SQL?\n",
    "\n",
    "\n",
    "Q) How to insert a new column in table?\n",
    "\n",
    "\n",
    "Q) You have a 'Name' column in a table. Wite a SQL query to extract only those records where 'son' is present in 'Name' column.\n",
    "\n",
    "\n",
    "Q) Write a SQL query to extract only that record which having the second highest salary?\n",
    "\n",
    "\n",
    "Q) A table consits of columns 'Order_ID' and 'Order_Date'. Write a SQL query to extract only those records where more than 5 orders are place in a particular date. "
   ]
  },
  {
   "cell_type": "markdown",
   "id": "6861b57c",
   "metadata": {},
   "source": [
    "Note:- We can not use * with GROUPBY"
   ]
  },
  {
   "cell_type": "code",
   "execution_count": null,
   "id": "3f95e03c",
   "metadata": {},
   "outputs": [],
   "source": []
  }
 ],
 "metadata": {
  "kernelspec": {
   "display_name": "Python 3 (ipykernel)",
   "language": "python",
   "name": "python3"
  },
  "language_info": {
   "codemirror_mode": {
    "name": "ipython",
    "version": 3
   },
   "file_extension": ".py",
   "mimetype": "text/x-python",
   "name": "python",
   "nbconvert_exporter": "python",
   "pygments_lexer": "ipython3",
   "version": "3.9.13"
  }
 },
 "nbformat": 4,
 "nbformat_minor": 5
}
