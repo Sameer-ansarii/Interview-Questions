{
 "cells": [
  {
   "cell_type": "markdown",
   "id": "bbe89e0d",
   "metadata": {},
   "source": [
    "### Q) What is difference between Count, CountA and Countif in excel?\n",
    "\n",
    "\n",
    "Count is use to count the total number of cells. \n",
    "\n",
    "CountA is also use to count the total number of cells but count A don't consider cells with blank values.\n",
    "\n",
    "Countif is also use to count the total number of cells with a certain condition."
   ]
  },
  {
   "cell_type": "code",
   "execution_count": null,
   "id": "0ffe6ab3",
   "metadata": {},
   "outputs": [],
   "source": []
  },
  {
   "cell_type": "markdown",
   "id": "796add9e",
   "metadata": {},
   "source": [
    "### Q) What is VLOOKUP in Excel?\n",
    "\n",
    "VLOOKUP is a function in excel that is used to find value. We use VLOOKUP when we have to find the value at same row but in another column."
   ]
  },
  {
   "cell_type": "code",
   "execution_count": null,
   "id": "d43d0fc9",
   "metadata": {},
   "outputs": [],
   "source": []
  }
 ],
 "metadata": {
  "kernelspec": {
   "display_name": "Python 3 (ipykernel)",
   "language": "python",
   "name": "python3"
  },
  "language_info": {
   "codemirror_mode": {
    "name": "ipython",
    "version": 3
   },
   "file_extension": ".py",
   "mimetype": "text/x-python",
   "name": "python",
   "nbconvert_exporter": "python",
   "pygments_lexer": "ipython3",
   "version": "3.9.13"
  }
 },
 "nbformat": 4,
 "nbformat_minor": 5
}
