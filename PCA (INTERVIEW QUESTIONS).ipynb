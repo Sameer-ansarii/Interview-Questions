{
 "cells": [
  {
   "cell_type": "markdown",
   "id": "074faac6",
   "metadata": {},
   "source": [
    "Q1) What is PCA?\n",
    "\n",
    "\n",
    "* PCA (Principal Component Analysis) is a statistical technique used for reducing the dimensionality of a large dataset while retaining as much information as possible.\n",
    "\n",
    "\n",
    "* In other words, it is a method to use to convert high-dimensional data into a smaller number of dimensions, called principal components, which capture the most important information in the data. "
   ]
  },
  {
   "cell_type": "code",
   "execution_count": null,
   "id": "83737b77",
   "metadata": {},
   "outputs": [],
   "source": []
  },
  {
   "cell_type": "markdown",
   "id": "4486b138",
   "metadata": {},
   "source": [
    "Q2) Why we use PCA? / What is the main objective of PCA?\n",
    "\n",
    "\n",
    "* Dimensionality reduction: PCA is used to reduce the number of variables in a dataset while retaining the most important information.\n",
    "\n",
    "\n",
    "* Data visualization: By reducing the dimensions of a dataset, PCA can help to visualize the data in a lower-dimensional space. \n",
    "\n",
    "\n",
    "* Feature extraction: PCA can be used to extract the most important features or variables from a dataset.\n",
    "\n",
    "\n",
    "* Noise reduction: PCA can help to reduce the irrelevant information in a dataset by focusing on the most important features in the data.\n",
    "\n",
    "\n",
    "* Addressing Colinearity and multicollinearity: Principal Components doesn't conatin colinearity and multicollinearity."
   ]
  },
  {
   "cell_type": "code",
   "execution_count": null,
   "id": "de89621c",
   "metadata": {},
   "outputs": [],
   "source": []
  },
  {
   "cell_type": "markdown",
   "id": "47ef7529",
   "metadata": {},
   "source": [
    "Q3) Explain the steps involved in performing PCA.\n",
    "\n",
    "\n",
    "* The steps involved in performing PCA are:-\n",
    "\n",
    "\n",
    "* Standardize the data :- Use the Standard Scaler and scale the data to ensure that all features are on the same range.\n",
    "\n",
    "\n",
    "* Compute the covariance matrix: The next step is to compute the covariance matrix of the standardized data. This matrix describes the relationships between the variables in the data.\n",
    "\n",
    "\n",
    "* Compute the eigenvectors and eigenvalues: The third step is to compute the eigenvectors and eigenvalues of the covariance matrix. Eigenvectors are Principal Components and Eigenvalues are what amount of variation each Principal Component carries.\n",
    "\n",
    "\n",
    "* Choose the principal components: The fourth step is to choose the number principal components according the amount of variation they kept.\n",
    "\n",
    "\n",
    "* Transform the data: The final step is to transform the data using the chosen principal components."
   ]
  },
  {
   "cell_type": "code",
   "execution_count": null,
   "id": "3faacec9",
   "metadata": {},
   "outputs": [],
   "source": []
  },
  {
   "cell_type": "markdown",
   "id": "3fc3b97c",
   "metadata": {},
   "source": [
    "Q4) What are the use of vectors in PCA?\n",
    "\n",
    "\n",
    "* In PCA, vectors are used to identify the directions in which the most variance is capture in the data. In that direction with the help of vectors algorithm make new features called Principal component.\n",
    "\n",
    "\n",
    "* More specifically, the principal components are eigenvectors of the covariance matrix of the data.\n",
    "\n",
    "\n",
    "* Vectors (i.e., eigenvectors) are used in PCA to identify the directions where maximum variance is capture in the data, and make new features in that direction called principal components."
   ]
  },
  {
   "cell_type": "code",
   "execution_count": null,
   "id": "8de28066",
   "metadata": {},
   "outputs": [],
   "source": []
  },
  {
   "cell_type": "markdown",
   "id": "b1f39f31",
   "metadata": {},
   "source": [
    "Q5) What is covariance-matrix?\n",
    "\n",
    "\n",
    "* Covariance indicates the directional relationship between variables. Whether it is positive or inverse or we can say how much two variables change together.\n",
    "\n",
    "\n",
    "* The covariance matrix is a square matrix that shows the covariance between each pair of variables in a dataset.\n",
    "\n",
    "\n",
    "* The diagonal values of the covariance matrix represent the variance of each variable.\n",
    "\n",
    "\n",
    "* The off-diagonal values represent the covariance between the variables.\n",
    "\n",
    "\n",
    "* The covariance matrix is an important input for many statistical techniques, including principal component analysis (PCA)."
   ]
  },
  {
   "cell_type": "code",
   "execution_count": null,
   "id": "2d7a1ac8",
   "metadata": {},
   "outputs": [],
   "source": []
  },
  {
   "cell_type": "markdown",
   "id": "641ebedb",
   "metadata": {},
   "source": [
    "Q6) What are Eighenvectors and Eighen Values? / Can you explain the concept of eigenvalues and eigenvectors in PCA?\n",
    "\n",
    "\n",
    "Eigenvalues and eigenvectors are concepts in linear algebra that are used in PCA to transform high-dimensional data into a lower-dimensional space.\n",
    "\n",
    "\n",
    "\n",
    "* Eighenvectors are newly derevied features PCA called Principal Components. The first eighenvector contains the maximum amount of variance the second eighenvector contains less amount of variance then the first eighenvector and so on.\n",
    "\n",
    "\n",
    "* With the help of eighenvectors we choose a subset of Principal Components which carries maximum variance in the data.\n",
    "\n",
    "\n",
    "* Eighenvalues are the amount of variance which each eighenvector or Principal Component kept."
   ]
  },
  {
   "cell_type": "code",
   "execution_count": null,
   "id": "c10c1ea8",
   "metadata": {},
   "outputs": [],
   "source": []
  },
  {
   "cell_type": "markdown",
   "id": "ef6d62d3",
   "metadata": {},
   "source": [
    "Q7) What is the role of covariance matrix in PCA?\n",
    "\n",
    "\n",
    "* The covariance matrix measures the variance of all the features in a dataset and provides information about the direction and amount of variance in the data. \n",
    "\n",
    "\n",
    "* In PCA, the covariance matrix is used to find the directions of maximum variance in the data, which are the principal components of the dataset."
   ]
  },
  {
   "cell_type": "code",
   "execution_count": null,
   "id": "f6053b37",
   "metadata": {},
   "outputs": [],
   "source": []
  },
  {
   "cell_type": "markdown",
   "id": "94c3c07b",
   "metadata": {},
   "source": [
    "Q8) What are the assumptions made by PCA?\n",
    "\n",
    "\n",
    "* Linearity: The relationships between the variables are linear because PCA is not well suited to capturing non-linear relationships. That's why it's advised to turn non-linear features into linear, using the standard Scaler.\n",
    "\n",
    "\n",
    "* Normality: The variables are normally distributed. After scaling the features they are normally distributed.\n",
    "\n",
    "\n",
    "* Large sample size: The sample size should be large enough to provide better results. A general rule of thumb is that the sample size should be at least five times the number of variables means 5:1. If number of column is 1 then minimum it contains 5 rows of data.\n",
    "\n",
    "\n",
    "* Outlier absence: PCA is sensitive to outliers, so it is assumed that there are no outliers in the data."
   ]
  },
  {
   "cell_type": "code",
   "execution_count": null,
   "id": "f5c61ef6",
   "metadata": {},
   "outputs": [],
   "source": []
  },
  {
   "cell_type": "markdown",
   "id": "26bac845",
   "metadata": {},
   "source": [
    "Q9) What is Matrix?\n",
    "\n",
    "\n",
    "* Matrix is a rectangular array of numbers arranged in rows and columns. Each number in the matrix is called an element and it's position is specifying by its row and column position.\n",
    "\n",
    "\n",
    "* In matrix column element(value) shows vertically and row element(value) shows horizontally."
   ]
  },
  {
   "cell_type": "code",
   "execution_count": null,
   "id": "403e54e8",
   "metadata": {},
   "outputs": [],
   "source": []
  },
  {
   "cell_type": "markdown",
   "id": "cec10dac",
   "metadata": {},
   "source": [
    "Q10) What is Transpose Matrix?\n",
    "\n",
    "\n",
    "* It is matrix that interchange the position of rows and columns. It means column elements shows horizontally and row elements vertically.\n",
    "\n",
    "\n",
    "* In PCA it is use to compute the covariance-matrix and with the help of covariance-matrix we find eighenvectors and eighenvalues."
   ]
  },
  {
   "attachments": {
    "MATRIX-TRANSPOSE-in-Python.jpg": {
     "image/jpeg": "[encoded data removed]"
    }
   },
   "cell_type": "markdown",
   "id": "9e582a80",
   "metadata": {},
   "source": [
    "![MATRIX-TRANSPOSE-in-Python.jpg](attachment:MATRIX-TRANSPOSE-in-Python.jpg)"
   ]
  },
  {
   "cell_type": "code",
   "execution_count": null,
   "id": "7d3fbfb2",
   "metadata": {},
   "outputs": [],
   "source": []
  },
  {
   "cell_type": "markdown",
   "id": "347e5eb6",
   "metadata": {},
   "source": [
    "Q11) How do you decide the number of principal components to retain?\n",
    "\n",
    "\n",
    "* We select the number of principal components by looking at the proportion of variance explained by each principal component. For eg:- If we have 50 principal components and 10 principal components captures 90% of variance, so we select only 10 principal components and drop the remaining ones.\n",
    "\n",
    "\n",
    "* There are visualizing techniques by which we can select the number of principal components like Scree Plot. A scree plot shows the eigenvalues of the principal components in descending order. On x-axis we plot eighenvectors and on y- axis we plot eighenvalues.\n",
    "\n",
    "\n",
    "* We can select the number of principal components by giving a threshold. Ex- we give the threshold value as 0.90 means out of all principal components select only that number of pricipal components which captures 90% of variance"
   ]
  },
  {
   "cell_type": "code",
   "execution_count": null,
   "id": "954928dc",
   "metadata": {},
   "outputs": [],
   "source": []
  },
  {
   "cell_type": "markdown",
   "id": "d57b25df",
   "metadata": {},
   "source": [
    "Q12) What is the interpretation of principal components? / Explain Principal Components.\n",
    "\n",
    "\n",
    "* The newly derived features by PCA is called Principal Components. \n",
    "\n",
    "\n",
    "* Principal components are linear combinations of the original features of a dataset.\n",
    "\n",
    "\n",
    "* They are calculated in such a way that they capture the maximum amount of variation in the data.\n",
    "\n",
    "\n",
    "* The first principal component captures the most variance in the data, the second principal component captures the less amount of variance than first one and so on.\n",
    "\n",
    "\n",
    "* Principal components can be used to reduce the dimensionality of a dataset. Eg:- out of 100 principal components only 10 principal component captures the 90% of variance so, we select only 10 principal components and drop all the remaining ones."
   ]
  },
  {
   "cell_type": "code",
   "execution_count": null,
   "id": "6bd6942f",
   "metadata": {},
   "outputs": [],
   "source": []
  },
  {
   "cell_type": "markdown",
   "id": "d4397ca9",
   "metadata": {},
   "source": [
    "Q13) How do you deal with missing values in PCA?\n",
    "\n",
    "\n",
    "* Drop the missing values.\n",
    "\n",
    "\n",
    "* Impute the missing values according to the data."
   ]
  },
  {
   "cell_type": "code",
   "execution_count": null,
   "id": "371e485c",
   "metadata": {},
   "outputs": [],
   "source": []
  },
  {
   "cell_type": "markdown",
   "id": "216d7709",
   "metadata": {},
   "source": [
    "Q14) What is Curse of Dimensionality?\n",
    "\n",
    "\n",
    "* Curse of Dimensionality is a problem in machine learning which says that there is a optimum point or limit of features if we cross this optimum point or limit and put less or more features to build a model than model is not giving better results.\n",
    "\n",
    "\n",
    "* Usually the problem of Curse of Dimensionality arises while working on a large dataset. To prevent from curse of dimensioanlity we use many features selections techniques like RFE, VIF, Correlation Matrix and some Feature Extraction Techniques like PCA."
   ]
  },
  {
   "cell_type": "code",
   "execution_count": null,
   "id": "fc261c03",
   "metadata": {},
   "outputs": [],
   "source": []
  },
  {
   "cell_type": "markdown",
   "id": "67fea7ee",
   "metadata": {},
   "source": [
    "Q15) What is the difference between covariance matrix and correlation matrix in PCA?\n",
    "\n",
    "\n",
    "In PCA, both covariance matrix and correlation matrix are used to analyze the relationships between the features of a dataset, but there is a difference between them:-\n",
    "\n",
    "\n",
    "* Covariance Matrix: A covariance matrix is a square matrix that shows the covariance between each pair of features in a dataset. Covariance measures the directional relationship between variables whether it is positive or inverse. The value of covariance ranges between -infinity to +infinity.\n",
    "\n",
    "\n",
    "* Correlation Matrix: A correlation matrix is also a square matrix that shows the correlation between each pair of features in a dataset. Correlation measures the strength of directional relationship between variables whether it is positive or inverse. The value of correlation ranges between -0 to +1. \n"
   ]
  },
  {
   "cell_type": "code",
   "execution_count": null,
   "id": "492177db",
   "metadata": {},
   "outputs": [],
   "source": []
  },
  {
   "cell_type": "markdown",
   "id": "d079ae64",
   "metadata": {},
   "source": [
    "Q16) Can PCA be used for feature selection?\n",
    "\n",
    "\n",
    "* Yes, PCA is used for feature selection. PCA makes new features which are the linear combination of original features. These newly created features are called Principal Components which captures the maximum amount of variation.\n",
    "\n",
    "\n",
    "* Out of all Principal Components we select only that number of Principal Components which captures the most variance in it. Eg:- Out of 100 Principal Components only 10 Principal Component captures the 90% of variance so we select 10 Principal Components and drop all the remaining ones."
   ]
  },
  {
   "cell_type": "code",
   "execution_count": null,
   "id": "42d7ea82",
   "metadata": {},
   "outputs": [],
   "source": []
  },
  {
   "cell_type": "markdown",
   "id": "87a9cb32",
   "metadata": {},
   "source": [
    "Q17) Can PCA be used for non-linear dimensionality reduction?\n",
    "\n",
    "\n",
    "* PCA is a technique for reducing the dimensionality of data by finding the directions where maximum variation is capture in the data and projecting the data onto those directions. However, it only works well for linear data.\n",
    "\n",
    "\n",
    "* There are other techniques used for non-linear dimenionality reduction like t-SNE and kernal PCA. These techniques are designed for non-linear data and commonly used in machine learning and data analysis."
   ]
  },
  {
   "cell_type": "code",
   "execution_count": null,
   "id": "48dc6318",
   "metadata": {},
   "outputs": [],
   "source": []
  },
  {
   "cell_type": "markdown",
   "id": "73cecbe0",
   "metadata": {},
   "source": [
    "Q18) What is the relationship between PCA and linear regression?\n",
    "\n",
    "\n",
    "* PCA is a technique for dimensionality reduction that identifies the directions of maximum variation in a dataset and projects the data onto that directions and make new set of features, called principal components.\n",
    "\n",
    "\n",
    "* Linear regression is a technique used to build the relationship between dependent variable and independent variable(s).\n",
    "\n",
    "\n",
    "* PCA and linear regression are statistical techniques that used for different purposes.\n",
    "\n",
    "\n",
    "* However, PCA can be used as a pre-processing step before linear regression to reduce the dimensionality of the dataset and improve the accuracy of the linear regression model.\n",
    "\n",
    "\n",
    "* By using PCA, it can helps to deal with multicollinearity (high correlation between variables) and gives better result without losing the information of data. It is important to deal with multicolinearity because if the multicolinearity present in the data it will unstables the value of coefficients which results in bad performance of model and the problem of overfitting occurs.\n",
    "\n",
    "\n",
    "* PCA can be seen as a tool to prepare data for linear regression analysis, but it is not a replacement of linear regression."
   ]
  },
  {
   "cell_type": "code",
   "execution_count": null,
   "id": "1d6572c2",
   "metadata": {},
   "outputs": [],
   "source": []
  },
  {
   "cell_type": "markdown",
   "id": "69f5a8c3",
   "metadata": {},
   "source": [
    "Q19) What are some of the limitations of PCA?\n",
    "\n",
    "\n",
    "* Required Scaling: Data needs to be scaled before performing PCA. Otherwise, the result may be biased towards the variables with larger ranges. PCA required same amount of variance among all variables.\n",
    "\n",
    "\n",
    "* Assumes linearity: PCA assumes that the relationships among variables are linear, which may not always be the case in real-world datasets. That's why it is advise to use standard scaler to scale the data.\n",
    "\n",
    "\n",
    "* Information loss: PCA attempts to capture as much variance as possible, but it can also lead to information loss.\n",
    "\n",
    "\n",
    "* PCA is not robust against outliers: The algorithm will be biased towards the strong outliers. That's why it is recommended to remove outliers before performing PCA.\n",
    "\n",
    "\n",
    "* Loss of Explainabilty of features: After reducing the dimensions of data, the explaination of the features becomes more difficult.\n",
    "\n",
    "\n",
    "* Assumes no missing values: If there are missing values in data it is recommended to drop or impute the missing values before performing PCA."
   ]
  },
  {
   "cell_type": "code",
   "execution_count": null,
   "id": "52067916",
   "metadata": {},
   "outputs": [],
   "source": []
  },
  {
   "cell_type": "markdown",
   "id": "46c16daf",
   "metadata": {},
   "source": [
    "Q20) What is variance in PCA? / What do mean by variance in PCA?\n",
    "\n",
    "\n",
    "* In PCA, variance refers to the amount of variability or spread in a particular variable in the dataset. It is a measure of how much a variable different from its mean or average value.\n",
    "\n",
    "\n",
    "* The goal of PCA is to find the principal components that capture the most variance in the data.\n",
    "\n",
    "\n",
    "* If the spread of data is more and the values are very far from it's mean value, we can say there is a huge variance.\n",
    "\n",
    "\n",
    "* The maximum variance means that that features contains the maximum information about data."
   ]
  },
  {
   "cell_type": "code",
   "execution_count": null,
   "id": "efc18dab",
   "metadata": {},
   "outputs": [],
   "source": []
  },
  {
   "cell_type": "markdown",
   "id": "66281940",
   "metadata": {},
   "source": [
    "Q21) Can you explain the concept of eigenvalues and eigenvectors in PCA?\n",
    "\n",
    "\n",
    "* In PCA, we want to find a direction where the maximum amount of variance is captured in data. We find that direction with the help of vectors. The PCA makes new features in that directions which is called Principal Components and also known as eighenvectors. Eighenvectors tells that in which direction the maximum variance is capture by data.\n",
    "\n",
    "\n",
    "* The first eighenvector contains the maximum amount of variance in it, the second eighenvector contains less amount of variance then the first one and so on.\n",
    "\n",
    "\n",
    "* Eigenvalues, tell us how much variance is explained by each eigenvector or principal component. The larger the eigenvalue, the more important that principal component is in explaining the variation in the data.\n",
    "\n",
    "\n",
    "* In summary, eigenvectors tells the direction where the maximum amount of variance is captured by the data, and eigenvalues tells that how much each Principal Component explain the variance."
   ]
  },
  {
   "cell_type": "code",
   "execution_count": null,
   "id": "2c160265",
   "metadata": {},
   "outputs": [],
   "source": []
  },
  {
   "cell_type": "markdown",
   "id": "b7ba0ebf",
   "metadata": {},
   "source": [
    "Q22) Why variance is so much important in PCA?\n",
    "\n",
    "\n",
    "* Variance is important in PCA because the main objective of PCA is to capture the maximum amount of variance in the data. Variance means spread of data. Where spread of data (variance) is more that means that that direction or feature contains much information about data.\n",
    "\n",
    "\n",
    "* PCA aims to find the directions where the most amount of variance is captured by data and in that direction PCA makes new features called eighenvectors or Principal Components.\n",
    "\n",
    "\n",
    "* By capturing the maximum variance, PCA can reduce the dimensionality of the data while retaining most of the important information. \n",
    "\n",
    "\n",
    "* The principal components with high variance are considered more important because they capture the majority of information about data.\n",
    "\n",
    "\n",
    "* That's why variance plays a important role in PCA to find the number of Principal Components which carries the maximum amount of variance."
   ]
  },
  {
   "cell_type": "code",
   "execution_count": null,
   "id": "809e01f0",
   "metadata": {},
   "outputs": [],
   "source": []
  },
  {
   "cell_type": "markdown",
   "id": "72a9bd5a",
   "metadata": {},
   "source": [
    "Q23) What do you mean by finding the direction where maximum variance is capture?\n",
    "\n",
    "\n",
    "* Direction refers to axis of feature. It means from which axis of feature or direction where most of the data points are spreaded.\n",
    "\n",
    "\n",
    "* It is important to find the direction where the data is spread out the most because this direction captures the most important information in the data.\n",
    "\n",
    "\n",
    "* PCA makes new directions out of that direction where maximum variance is capture and these new directions are called principal components, that capture the most variance in the data."
   ]
  },
  {
   "cell_type": "code",
   "execution_count": null,
   "id": "3b02e489",
   "metadata": {},
   "outputs": [],
   "source": []
  }
 ],
 "metadata": {
  "kernelspec": {
   "display_name": "Python 3 (ipykernel)",
   "language": "python",
   "name": "python3"
  },
  "language_info": {
   "codemirror_mode": {
    "name": "ipython",
    "version": 3
   },
   "file_extension": ".py",
   "mimetype": "text/x-python",
   "name": "python",
   "nbconvert_exporter": "python",
   "pygments_lexer": "ipython3",
   "version": "3.9.13"
  }
 },
 "nbformat": 4,
 "nbformat_minor": 5
}
