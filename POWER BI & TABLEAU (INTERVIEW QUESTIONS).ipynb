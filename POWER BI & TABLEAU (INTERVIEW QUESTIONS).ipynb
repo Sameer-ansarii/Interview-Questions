{
 "cells": [
  {
   "cell_type": "markdown",
   "id": "8cbf7c56",
   "metadata": {},
   "source": [
    "Note:- In screening round you have to make dashboards on Power BI and Tableau.\n",
    "\n",
    "Q) What is Power BI & Tableau and it's use?\n",
    "\n",
    "Q) What is heirarchy in Tableau?\n",
    "\n",
    "Q) What are the role and responsibilites of a Data Analyst?\n",
    "\n",
    "Q) In which type of variables we use heirarchy?\n",
    "\n",
    "Q) For what kind of variables we use sunburst chart?"
   ]
  },
  {
   "cell_type": "code",
   "execution_count": null,
   "id": "be386848",
   "metadata": {},
   "outputs": [],
   "source": []
  },
  {
   "cell_type": "markdown",
   "id": "361dd4d7",
   "metadata": {},
   "source": [
    "Q) What chart/plot is used to see the correlation between variable?\n",
    "\n",
    "* Scatter plot."
   ]
  },
  {
   "cell_type": "code",
   "execution_count": null,
   "id": "bfc4dff9",
   "metadata": {},
   "outputs": [],
   "source": []
  }
 ],
 "metadata": {
  "kernelspec": {
   "display_name": "Python 3 (ipykernel)",
   "language": "python",
   "name": "python3"
  },
  "language_info": {
   "codemirror_mode": {
    "name": "ipython",
    "version": 3
   },
   "file_extension": ".py",
   "mimetype": "text/x-python",
   "name": "python",
   "nbconvert_exporter": "python",
   "pygments_lexer": "ipython3",
   "version": "3.9.13"
  }
 },
 "nbformat": 4,
 "nbformat_minor": 5
}
