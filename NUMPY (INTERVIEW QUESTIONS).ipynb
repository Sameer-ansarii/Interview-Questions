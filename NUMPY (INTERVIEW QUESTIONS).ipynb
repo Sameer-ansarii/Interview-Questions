{
 "cells": [
  {
   "cell_type": "markdown",
   "id": "f7feffec",
   "metadata": {},
   "source": [
    "### Q) What is numpy and it's use?\n",
    "\n",
    "* Numpy is an open-source library of python use to perform various mathematical & statistical tasks, such as finding measures of central tendency, covariance & correlation, matrix multiplication, etc."
   ]
  },
  {
   "cell_type": "code",
   "execution_count": null,
   "id": "6f290284",
   "metadata": {},
   "outputs": [],
   "source": []
  },
  {
   "cell_type": "markdown",
   "id": "2bb94f98",
   "metadata": {},
   "source": [
    "### Q) What is array?\n",
    "\n",
    "* Array is a matrix of numerical values which are called elements. Array contains only numerical values. Array can be of any dimension, such as 1D array,  2D array, etc."
   ]
  },
  {
   "cell_type": "code",
   "execution_count": null,
   "id": "f433da21",
   "metadata": {},
   "outputs": [],
   "source": []
  },
  {
   "cell_type": "markdown",
   "id": "a2c3fa10",
   "metadata": {},
   "source": [
    "### Q) Difference between list and array?\n",
    "\n",
    "* List contains any data type, such as object, integer, float but array contains only numerical value whether it is interger or float.\n",
    "\n",
    "\n",
    "* List can be only one dimensional but array can be one dimensional or multi-dimensional."
   ]
  },
  {
   "cell_type": "code",
   "execution_count": null,
   "id": "8503fa97",
   "metadata": {},
   "outputs": [],
   "source": []
  },
  {
   "cell_type": "markdown",
   "id": "fd781c32",
   "metadata": {},
   "source": [
    "### Q) How to compute measures of central tendency using numpy?\n",
    "\n",
    "* We have various functions in numpy to compute measures of central tendency, such as \n",
    "\n",
    "* np.mean('column name'), np.median('column name') and to compute mode we have no dirct function in numpy so we use scipy.stats library to compute mode and the code will be scipy.stats.mode('column name') or we use pandas to compute mode by applying df.mode() function which computes mode of every column."
   ]
  },
  {
   "cell_type": "code",
   "execution_count": null,
   "id": "ab96a67a",
   "metadata": {},
   "outputs": [],
   "source": []
  },
  {
   "cell_type": "markdown",
   "id": "7fee1a28",
   "metadata": {},
   "source": [
    "### Q) How to compute percentile?\n",
    "\n",
    "* We use np.percentile() function and code will be np.percentile('column name', percentile value like 25,50)"
   ]
  },
  {
   "cell_type": "code",
   "execution_count": null,
   "id": "86e08106",
   "metadata": {},
   "outputs": [],
   "source": []
  },
  {
   "cell_type": "markdown",
   "id": "e59599e3",
   "metadata": {},
   "source": [
    "### Q) How to convert a list into numpy array?"
   ]
  },
  {
   "cell_type": "code",
   "execution_count": 19,
   "id": "54a8a9b0",
   "metadata": {},
   "outputs": [
    {
     "data": {
      "text/plain": [
       "array([1, 5, 7, 6])"
      ]
     },
     "execution_count": 19,
     "metadata": {},
     "output_type": "execute_result"
    }
   ],
   "source": [
    "import numpy as np\n",
    "\n",
    "a = [1,5,7,6]\n",
    "\n",
    "numpy_array = np.array(a)\n",
    "\n",
    "numpy_array # Numpy array results output as a list of elements which are comma seprated "
   ]
  },
  {
   "cell_type": "code",
   "execution_count": 21,
   "id": "ffb1d18d",
   "metadata": {},
   "outputs": [
    {
     "name": "stdout",
     "output_type": "stream",
     "text": [
      "[1 5 7 6]\n"
     ]
    }
   ],
   "source": [
    "print(numpy_array) # Print a numpy array results in list of elements which are not comma seprated"
   ]
  },
  {
   "cell_type": "code",
   "execution_count": 23,
   "id": "345781ca",
   "metadata": {},
   "outputs": [
    {
     "data": {
      "text/plain": [
       "[1, 5, 7, 6]"
      ]
     },
     "execution_count": 23,
     "metadata": {},
     "output_type": "execute_result"
    }
   ],
   "source": [
    "a   # list results output in list of elements which are comma seprated. "
   ]
  },
  {
   "cell_type": "code",
   "execution_count": 17,
   "id": "bd5b2d04",
   "metadata": {},
   "outputs": [
    {
     "name": "stdout",
     "output_type": "stream",
     "text": [
      "[1, 5, 7, 6]\n"
     ]
    }
   ],
   "source": [
    "print(a)  # Print a list results same output as object of list"
   ]
  },
  {
   "cell_type": "code",
   "execution_count": 14,
   "id": "004a401e",
   "metadata": {},
   "outputs": [
    {
     "data": {
      "text/plain": [
       "list"
      ]
     },
     "execution_count": 14,
     "metadata": {},
     "output_type": "execute_result"
    }
   ],
   "source": [
    "type(a)"
   ]
  },
  {
   "cell_type": "code",
   "execution_count": 9,
   "id": "3ab3cfbc",
   "metadata": {},
   "outputs": [
    {
     "data": {
      "text/plain": [
       "numpy.ndarray"
      ]
     },
     "execution_count": 9,
     "metadata": {},
     "output_type": "execute_result"
    }
   ],
   "source": [
    "type(numpy_array)"
   ]
  },
  {
   "cell_type": "code",
   "execution_count": null,
   "id": "e13fe214",
   "metadata": {},
   "outputs": [],
   "source": []
  },
  {
   "cell_type": "code",
   "execution_count": null,
   "id": "f421883b",
   "metadata": {},
   "outputs": [],
   "source": []
  }
 ],
 "metadata": {
  "kernelspec": {
   "display_name": "Python 3 (ipykernel)",
   "language": "python",
   "name": "python3"
  },
  "language_info": {
   "codemirror_mode": {
    "name": "ipython",
    "version": 3
   },
   "file_extension": ".py",
   "mimetype": "text/x-python",
   "name": "python",
   "nbconvert_exporter": "python",
   "pygments_lexer": "ipython3",
   "version": "3.9.13"
  }
 },
 "nbformat": 4,
 "nbformat_minor": 5
}
