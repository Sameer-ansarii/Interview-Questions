{
 "cells": [
  {
   "cell_type": "markdown",
   "id": "7d623eca",
   "metadata": {},
   "source": [
    "Q1) What is logistic regression"
   ]
  },
  {
   "cell_type": "markdown",
   "id": "36128d33",
   "metadata": {},
   "source": [
    "* Logistic regression is a Machine Learning Algorithm use to solve classification problems. It is used to predict a binary and categorical outcome based on a set of independent variables.\n",
    "\n",
    "\n",
    "* It is also used to predict the probability of an event occurring based on input variables.\n",
    "\n",
    "\n",
    "* Real World Examples where Logistic Regression use :- Spam Filters, Weather Prediction, Banking & Health Care Sectors."
   ]
  },
  {
   "cell_type": "code",
   "execution_count": null,
   "id": "3bfea10e",
   "metadata": {},
   "outputs": [],
   "source": []
  },
  {
   "cell_type": "markdown",
   "id": "91c75c7f",
   "metadata": {},
   "source": [
    "Q2) How Logistic Regression it different from linear regression?\n",
    "\n",
    "\n",
    "* Linear Regression is use to solve regression problems whereas Logistic regression is use to solve the classification problems.\n",
    "\n",
    "\n",
    "* Linear regression is use to predict a continuous numerical output whereas Logistic regression is use to predict a binary and categorical  output. It means Logistic regression is use for binary and multi-class classification."
   ]
  },
  {
   "cell_type": "code",
   "execution_count": null,
   "id": "24058837",
   "metadata": {},
   "outputs": [],
   "source": []
  },
  {
   "cell_type": "markdown",
   "id": "9a88ec9b",
   "metadata": {},
   "source": [
    "Q3) What are the different types of Logistic Regression?\n",
    "\n",
    "1. Binary Logistic Regression: In this, the target variable has only two 2 possible outcomes.\n",
    "\n",
    "\n",
    "\n",
    "* For Example, 0 and 1, or pass and fail or true and false.\n",
    "\n",
    "\n",
    "\n",
    "2. Multi-class Logistic Regression: In this, the target variable can have more than 2 possible values without any order.\n",
    "\n",
    "* For Example, Predicting preference of food i.e. Veg, Non-Veg, Vegan."
   ]
  },
  {
   "cell_type": "code",
   "execution_count": null,
   "id": "47101249",
   "metadata": {},
   "outputs": [],
   "source": []
  },
  {
   "cell_type": "markdown",
   "id": "f765c8a6",
   "metadata": {},
   "source": [
    "Q4) What are some real-world applications of logistic regression? \n",
    "\n",
    "\n",
    "* Weather prediction applications\n",
    "\n",
    "\n",
    "* Spam Filters\n",
    "\n",
    "\n",
    "* Sports analytics to predict the outcome of a game\n",
    "\n",
    "\n",
    "* Political polling to predict the outcome of an election, etc."
   ]
  },
  {
   "cell_type": "code",
   "execution_count": null,
   "id": "ae7dd708",
   "metadata": {},
   "outputs": [],
   "source": []
  },
  {
   "cell_type": "markdown",
   "id": "c98154ca",
   "metadata": {},
   "source": [
    "Q5) How do you measure the performance of a logistic regression model?\n",
    "\n",
    "\n",
    "* Accuracy \n",
    "\n",
    "\n",
    "* Confusion matrix: A confusion matrix shows the number of true positives, true negatives, false positives, and false negatives.\n",
    "\n",
    "\n",
    "* Sensitivity and specificity\n",
    "\n",
    "\n",
    "* Precision and recall\n",
    "\n",
    "\n",
    "* F1 score\n",
    "\n",
    "\n",
    "* Receiver operating characteristic (ROC) curve"
   ]
  },
  {
   "cell_type": "code",
   "execution_count": null,
   "id": "c0fc3399",
   "metadata": {},
   "outputs": [],
   "source": []
  },
  {
   "cell_type": "markdown",
   "id": "2c000cc6",
   "metadata": {},
   "source": [
    "Q6) What are some techniques for addressing multicollinearity in logistic regression?\n",
    "\n",
    "\n",
    "* Remove one of the correlated variable\n",
    "\n",
    "\n",
    "* Combine the correlated variables and make a new feature\n",
    "\n",
    "\n",
    "* Remove multi-correlated feature through VIF (Variance Inflation Factor)"
   ]
  },
  {
   "cell_type": "code",
   "execution_count": null,
   "id": "dcf039bc",
   "metadata": {},
   "outputs": [],
   "source": []
  },
  {
   "cell_type": "markdown",
   "id": "05416e1a",
   "metadata": {},
   "source": [
    "Q7) How does logistic regression handle categorical variables in the independent variables\n",
    "\n",
    "\n",
    "* One-Hot Encoding\n",
    "\n",
    "\n",
    "* Label Encoding\n",
    "\n",
    "\n",
    "* Target Encoding"
   ]
  },
  {
   "cell_type": "code",
   "execution_count": null,
   "id": "c470fd57",
   "metadata": {},
   "outputs": [],
   "source": []
  },
  {
   "cell_type": "markdown",
   "id": "6c056053",
   "metadata": {},
   "source": [
    "Q8) What is Sigmoid Function and what is the use of Sigmoid Function in Logistic Regression?\n",
    "\n",
    "\n",
    "* The sigmoid function is a mathematical function that maps any value between -infinity to +infinity to a value between 0 and 1.\n",
    "\n",
    "Use of Sigmoid Function :-\n",
    "\n",
    "\n",
    "* The sigmoid function, also known as the logistic function. It map the values of log-odds to a probability between 0 and 1. \n",
    "\n",
    "\n",
    "* It used in logistic regression to build the relationship between the independent variables and the probability of the dependent variable."
   ]
  },
  {
   "cell_type": "code",
   "execution_count": null,
   "id": "5f9e15c7",
   "metadata": {},
   "outputs": [],
   "source": []
  },
  {
   "cell_type": "markdown",
   "id": "32e93607",
   "metadata": {},
   "source": [
    "Q9) Formula of Sigmoid Function."
   ]
  },
  {
   "attachments": {
    "faaa0c014ae28ac67db5c49b3f3e8b08415a3f2b.svg": {
     "image/svg+xml": [
      "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"
     ]
    }
   },
   "cell_type": "markdown",
   "id": "70df96f2",
   "metadata": {},
   "source": [
    "![faaa0c014ae28ac67db5c49b3f3e8b08415a3f2b.svg](attachment:faaa0c014ae28ac67db5c49b3f3e8b08415a3f2b.svg)"
   ]
  },
  {
   "cell_type": "markdown",
   "id": "08f0fdaf",
   "metadata": {},
   "source": [
    "* f(x) = Probability of dependent variable\n",
    "* e = (Euler's Constant), 2.71828\n",
    "* -x = -(mx+c) "
   ]
  },
  {
   "cell_type": "code",
   "execution_count": null,
   "id": "ebb0eccf",
   "metadata": {},
   "outputs": [],
   "source": []
  },
  {
   "cell_type": "markdown",
   "id": "96934e42",
   "metadata": {},
   "source": [
    "Q10) Can logistic regression be used for multi-class classification? If so, how?\n",
    "\n",
    "\n",
    "* Yes, the problem is it is not very simple to implement. Either I, apply one vs all or mutlinomial Logistic Regression.\n",
    "\n",
    "\n",
    "* If I apply any of them the model became complex and we don't want complexity in our model.\n",
    "\n",
    "\n",
    "* So, to prevent complexity in our model I use ensemble learning techniques like bagging and boosting."
   ]
  },
  {
   "cell_type": "code",
   "execution_count": null,
   "id": "f7b3f1cd",
   "metadata": {},
   "outputs": [],
   "source": []
  },
  {
   "cell_type": "markdown",
   "id": "87ee64f5",
   "metadata": {},
   "source": [
    "Q11) What are odds and log odds?\n",
    "\n",
    "\n",
    "* Odds are the ratio of the probability of an event occurring to the probability of the event not occurring.\n",
    "\n",
    "\n",
    "* When we scale the value of odds on a logarithm scale it is called log-odds."
   ]
  },
  {
   "cell_type": "code",
   "execution_count": null,
   "id": "210f5698",
   "metadata": {},
   "outputs": [],
   "source": []
  },
  {
   "cell_type": "markdown",
   "id": "9e345112",
   "metadata": {},
   "source": [
    "Q12) What is Logit Function? What is use of Logit Function in Logistic Regression?\n",
    "\n",
    "\n",
    "* The logit function is a mathematical function that maps the value of odds between -infinity to +infinity with the help of logarithm scale.\n",
    "\n",
    "\n",
    "* The scaled value of logit function is called log-odds or logit score.\n",
    "\n",
    "\n",
    "Use of Logit Function in Logistic Regression:-\n",
    "\n",
    "\n",
    "* Logit function builds the relationship between the independent variables and the log-odds of the dependent variable.\n",
    "\n",
    "\n",
    "* Logit function maps the value of odds of an event occuring within a specific range."
   ]
  },
  {
   "cell_type": "code",
   "execution_count": null,
   "id": "b8564d80",
   "metadata": {},
   "outputs": [],
   "source": []
  },
  {
   "cell_type": "markdown",
   "id": "95d2ec19",
   "metadata": {},
   "source": [
    "Q13) Difference Between Sigmoid Function and Logit Function.\n",
    "\n",
    "\n",
    "* Logit Function maps the value of odds with help of logarithm scale and ranges the value between -infinity to +infinity or we can say logit function converts the value of odds into a real number and sigmoid function maps any real number to a value between 0-1 which is known as probability of a outcome.\n",
    "\n",
    "\n",
    "* Logit function takes only the value of odds while sigmoid function takes any real number.\n",
    "\n",
    "\n",
    "* Sigmoid Function builds the relationship between the independent variables and the probability of the dependent variable while Logit function builds the relationship between the independent variables and the log-odds of the dependent variable."
   ]
  },
  {
   "cell_type": "code",
   "execution_count": null,
   "id": "ce897f0a",
   "metadata": {},
   "outputs": [],
   "source": []
  },
  {
   "cell_type": "markdown",
   "id": "48fc4715",
   "metadata": {},
   "source": [
    "Q14) What are some assumptions of logistic regression?\n",
    "\n",
    "\n",
    "* Binary outcome: The dependent variable should be binary in nature, which means it should have only two possible outcomes.\n",
    "\n",
    "\n",
    "* Linearity of independent variables: The relationship between the independent variables and the log-odds of the dependent variable should be linear.\n",
    "\n",
    "\n",
    "* Independence of observations: Each observation in the data should be independent of all other observations. This means that the value of the dependent variable for one observation should not depend on the value of the dependent variable for any other observation.\n",
    "\n",
    "\n",
    "* No multicollinearity: The independent variables used in the analysis should not be highly correlated with each other.\n",
    "\n",
    "\n",
    "* Large sample size: Logistic regression assumes that the sample size is large enough to produce stable estimates of the model parameters.\n",
    "\n",
    "\n",
    "* No outliers: The data should not contain any outliers that could significantly influence the model estimates."
   ]
  },
  {
   "cell_type": "code",
   "execution_count": null,
   "id": "3da626bc",
   "metadata": {},
   "outputs": [],
   "source": []
  },
  {
   "cell_type": "markdown",
   "id": "75c91d3b",
   "metadata": {},
   "source": [
    "Q15) What is the impact of class imbalance on logistic regression, and how can it be addressed?\n",
    "\n",
    "\n",
    "* Class imbalance can have a significant impact on the performance of logistic regression, as the model can become biased towards the majority class, resulting in poor classification accuracy for the minority class. \n",
    "\n",
    "\n",
    "We can use these techniques to prevent this problem.\n",
    "\n",
    "\n",
    "* Resampling techniques: These techniques involve either oversampling the minority class or undersampling the majority class. Oversampling techniques include random oversampling, SMOTE (Synthetic Minority Over-sampling Technique), and ADASYN (Adaptive Synthetic Sampling). Undersampling techniques include random undersampling, Tomek links, and Edited Nearest Neighbor.\n",
    "\n",
    "\n",
    "* Ensemble Learning Techniques: We can use Ensemble Learning Techniques such as bagging, boosting, and stacking can help to improve the performance of the model by reducing bias and variance and improving the generalization to new data.\n"
   ]
  },
  {
   "cell_type": "code",
   "execution_count": null,
   "id": "99971e8a",
   "metadata": {},
   "outputs": [],
   "source": []
  },
  {
   "cell_type": "markdown",
   "id": "5916b176",
   "metadata": {},
   "source": [
    "Q16) What is the purpose of the odds ratio in logistic regression?\n",
    "\n",
    "\n",
    "* In logistic regression, the odds ratio is used to measure the strength and direction of the relationship between the independent variable and the probability of the dependent variable."
   ]
  },
  {
   "cell_type": "code",
   "execution_count": null,
   "id": "292004f9",
   "metadata": {},
   "outputs": [],
   "source": []
  },
  {
   "cell_type": "markdown",
   "id": "941c6ba4",
   "metadata": {},
   "source": [
    "Q17) Explain Confusion Matrix.\n",
    "\n",
    "A confusion matrix is a table used to evaluate the performance of a classification model. It consists of four different metrics, namely True Positive (TP), True Negative (TN), False Positive (FP), and False Negative (FN). \n",
    "\n",
    "\n",
    "* True Positive (TP): The number of observations where the model correctly predicted the positive class.\n",
    "\n",
    "    \n",
    "* True Negative (TN): The number of observations where the model correctly predicted the negative class.\n",
    "\n",
    "    \n",
    "* False Positive (FP / Type I Error): The number of observations where the model predicted the positive class but the actual class was negative.\n",
    "\n",
    "    \n",
    "* False Negative (FN / Type II Error): The number of observations where the model predicted the negative class but the actual class was positive."
   ]
  },
  {
   "cell_type": "code",
   "execution_count": null,
   "id": "4c910b38",
   "metadata": {},
   "outputs": [],
   "source": []
  },
  {
   "cell_type": "markdown",
   "id": "8f540f72",
   "metadata": {},
   "source": [
    "Q18) How to change the values of confusion matrix?\n",
    "\n",
    "\n",
    "* To change the value of threshold point, the value of confusion matrix will change. By default the threshold point is 0.5.\n",
    "\n",
    "\n",
    "* If the threshold point will change precision recall, accuracy everything will change."
   ]
  },
  {
   "cell_type": "code",
   "execution_count": null,
   "id": "4f610254",
   "metadata": {},
   "outputs": [],
   "source": []
  },
  {
   "cell_type": "markdown",
   "id": "edec1d75",
   "metadata": {},
   "source": [
    "Q19) What is threshold point?\n",
    "\n",
    "\n",
    "* Threshold is a level, point, or value above which something is true or will take place and below it is not true or will not take place."
   ]
  },
  {
   "cell_type": "code",
   "execution_count": null,
   "id": "98152ba1",
   "metadata": {},
   "outputs": [],
   "source": []
  },
  {
   "cell_type": "markdown",
   "id": "c5e727e3",
   "metadata": {},
   "source": [
    "Terminologies :-\n",
    "\n",
    "\n",
    "* Accuracy :- Accuracy is the proportion of correctly classified observations to the total number of observations in the dataset.\n",
    "\n",
    "\n",
    "* Precision / Positive Prediction Value: The percentage of positive predictions made by the model that are correct / Among all the actual positive outcome what is the percentage of model correctly predicted positive outcome. Calculated as TP / (TP + FP).\n",
    "\n",
    "\n",
    "* Recall (also known as Sensitivity and True Postive Rate): The percentage of positive observations that were correctly identified by the model. Calculated as TP / (TP + FN).\n",
    "\n",
    "\n",
    "* Specificity (also known as True Negitive Rate): The percentage of negative observations that were correctly identified by the model, calculated as TN / (TN + FP).\n",
    "\n",
    "\n",
    "* F1 score : A weighted harmonic mean of precision and recall, calculated as 2 * (precision * recall) / (precision + recall).\n",
    "\n",
    "\n",
    "* Error Rate: The number of predictions that the model got wrong."
   ]
  },
  {
   "cell_type": "code",
   "execution_count": null,
   "id": "ddd5cb61",
   "metadata": {},
   "outputs": [],
   "source": []
  },
  {
   "cell_type": "markdown",
   "id": "b4bbe899",
   "metadata": {},
   "source": [
    "Note:- \n",
    "\n",
    "\n",
    "* Always Focus on Reducing Type I & Type II Error to enhance the performance of model.\n",
    "\n",
    "\n",
    "* When False Positive is much important to avoid, go with precision. Eg: Spam Detection.\n",
    "\n",
    "\n",
    "* When False Negitive is much important to avoid, go with recall/sensitivity. Eg: Cancer Detection, Fraud detection\n",
    "\n",
    "\n",
    "* In imbalanced dataset both precision and recall are important so, we use F1 Score.\n",
    "\n",
    "\n",
    "* When both precision and recall are important we use F1 Score.\n",
    "\n",
    "\n",
    "* We need higher True Positive Rate and lower False Positive Rate."
   ]
  },
  {
   "cell_type": "code",
   "execution_count": null,
   "id": "77697a06",
   "metadata": {},
   "outputs": [],
   "source": []
  },
  {
   "cell_type": "markdown",
   "id": "e45bce0e",
   "metadata": {},
   "source": [
    "Q20) What is ROC-AUC Curve and what is it use?\n",
    "\n",
    "\n",
    "* The ROC-AUC curve is a graphical representation of the performance of a binary classification model. ROC stands for Receiver Operating Characteristic, while AUC stands for Area Under the Curve.\n",
    "\n",
    "\n",
    "* The ROC curve is a plot of the true positive rate (TPR) against the false positive rate (FPR) at different classification thresholds.\n",
    "\n",
    "\n",
    "* In an ROC curve, the x-axis represents the False Positive Rate and y-axis represents True Positive Rate.\n",
    "\n",
    "\n",
    "* It is a metric which indicates overall performance of a model over all possible thresholds.\n",
    "\n",
    "\n",
    "* The values of all metrics will change, if we change the threshold point but ROC-AUC is a metric which not depend on threshold point.\n",
    "\n",
    "\n",
    "* A higher AUC indicates better performance of a classifier model. The AUC of value 1 indicating a perfect classifier while an AUC of value 0.5 indicates classifier is random guessing. "
   ]
  },
  {
   "cell_type": "code",
   "execution_count": null,
   "id": "e55f1b77",
   "metadata": {},
   "outputs": [],
   "source": []
  },
  {
   "cell_type": "markdown",
   "id": "63f7a57b",
   "metadata": {},
   "source": [
    "Q21) We have accuracy so why we use other metrics?\n",
    "\n",
    "\n",
    "* When the classes are imbalanced then the accuracy is not the right option becasuse if the model correctly predict the majority class then the accuracy automatically increases thats why we use other metrics.\n",
    "\n",
    "\n",
    "* In case of balanced dataset we use accuracy otherwise we use other metrics like precision and recall."
   ]
  },
  {
   "cell_type": "code",
   "execution_count": null,
   "id": "09f4099a",
   "metadata": {},
   "outputs": [],
   "source": []
  },
  {
   "cell_type": "markdown",
   "id": "06df1d84",
   "metadata": {},
   "source": [
    "Q22) How Logistic Regression Works?\n",
    "\n",
    "\n",
    "* It is a algorithm use to solve classification problem. In classification problem we can not use Linear Regression because our output can not be a real number but in linear regression y=mx+c where Y is a real number and in classification our output should in binary form so we can't predict any real number, we predict the probability of the output. \n",
    "\n",
    "\n",
    "* We can not predict the probability directly we use a sigmoid function to do this. In sigmoid function we use logit function and odds. To find the probability we use logit function. The log-odds value ranges between - infinity to + infinity. So, Sigmoid function map the values of log-odds between 0-1.  "
   ]
  },
  {
   "cell_type": "code",
   "execution_count": null,
   "id": "0a5cdf0f",
   "metadata": {},
   "outputs": [],
   "source": []
  },
  {
   "cell_type": "markdown",
   "id": "06ae209a",
   "metadata": {},
   "source": [
    "Q23) Why logistic regression called regression not classifiction?\n",
    "\n",
    "\n",
    "* The term \"regression\" refers to that logistic regression build the relationship between the input variables and the dependent variable, in a similar way to linear regression.\n",
    "\n",
    "\n",
    "* The goal of logistic regression is to output the probability of dependent variable based on the values of the input variables.\n",
    "\n",
    "\n",
    "* The output of logistic regression is not a classification of specific categories, but a probability."
   ]
  },
  {
   "cell_type": "code",
   "execution_count": null,
   "id": "0058e56a",
   "metadata": {},
   "outputs": [],
   "source": []
  },
  {
   "cell_type": "markdown",
   "id": "e1240083",
   "metadata": {},
   "source": [
    "Q24) What is feature scaling and Whether Feature Scaling is required or not?\n",
    "\n",
    "\n",
    "* Yes Feature Scaling is required. \n",
    "\n",
    "\n",
    "* Feature scaling refers to the process of scaling the values of the independent variables to a specific range or scale."
   ]
  },
  {
   "cell_type": "code",
   "execution_count": null,
   "id": "546af9c9",
   "metadata": {},
   "outputs": [],
   "source": []
  },
  {
   "cell_type": "markdown",
   "id": "3da9efe5",
   "metadata": {},
   "source": [
    "Q25) When we say our dataset is balanced or imbalanced?\n",
    "\n",
    "\n",
    "* If the ratio of categories is 50:50, 60:40, 70:30, we say that out dataset is balance or almost balance.\n",
    "            \n",
    "            \n",
    "* If the ratio of categories is 80:20, 90:10, we say that out dataset is imbalance."
   ]
  },
  {
   "cell_type": "code",
   "execution_count": null,
   "id": "f4825117",
   "metadata": {},
   "outputs": [],
   "source": []
  },
  {
   "cell_type": "markdown",
   "id": "84e16c05",
   "metadata": {},
   "source": [
    "Q26) Give example where both False Positive and False Negitive is equally important?\n",
    "\n",
    "\n",
    "* Banking Sector for approving Loan\n",
    "\n",
    "\n",
    "* Quality Check of any product or anything."
   ]
  },
  {
   "cell_type": "code",
   "execution_count": null,
   "id": "b8cfffb5",
   "metadata": {},
   "outputs": [],
   "source": []
  }
 ],
 "metadata": {
  "kernelspec": {
   "display_name": "Python 3 (ipykernel)",
   "language": "python",
   "name": "python3"
  },
  "language_info": {
   "codemirror_mode": {
    "name": "ipython",
    "version": 3
   },
   "file_extension": ".py",
   "mimetype": "text/x-python",
   "name": "python",
   "nbconvert_exporter": "python",
   "pygments_lexer": "ipython3",
   "version": "3.9.13"
  }
 },
 "nbformat": 4,
 "nbformat_minor": 5
}
