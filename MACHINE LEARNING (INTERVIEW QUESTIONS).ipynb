{
 "cells": [
  {
   "cell_type": "code",
   "execution_count": 3,
   "id": "aa0d97cb",
   "metadata": {},
   "outputs": [
    {
     "ename": "SyntaxError",
     "evalue": "invalid syntax (1532787434.py, line 7)",
     "output_type": "error",
     "traceback": [
      "\u001b[1;36m  File \u001b[1;32m\"C:\\Users\\HP\\AppData\\Local\\Temp\\ipykernel_4060\\1532787434.py\"\u001b[1;36m, line \u001b[1;32m7\u001b[0m\n\u001b[1;33m    Explain the bias-variance tradeoff in machine learning.\u001b[0m\n\u001b[1;37m            ^\u001b[0m\n\u001b[1;31mSyntaxError\u001b[0m\u001b[1;31m:\u001b[0m invalid syntax\n"
     ]
    }
   ],
   "source": [
    "What is regularization in machine learning? Why is it important?\n",
    "What is the difference between a parametric and non-parametric model?\n",
    "What is gradient descent? How does it work in machine learning?\n",
    "Explain decision trees and how they can be used for classification.\n",
    "What is the difference between bagging and boosting in machine learning?\n",
    "What is a neural network? How does it work?"
   ]
  },
  {
   "cell_type": "markdown",
   "id": "c4efe9e9",
   "metadata": {},
   "source": [
    "Q) What is RFE?\n",
    "\n",
    "\n",
    "* RFE stands for Recursive Feature Elimination.\n",
    "\n",
    "\n",
    "* The work of RFE is to find the best features for our model based on their P-Value.\n",
    "\n",
    "\n",
    "* It is feature selection technique used in Machine Lerarning to select the most important features in a dataset."
   ]
  },
  {
   "cell_type": "code",
   "execution_count": null,
   "id": "d91ba31d",
   "metadata": {},
   "outputs": [],
   "source": []
  },
  {
   "cell_type": "markdown",
   "id": "d61dfa6f",
   "metadata": {},
   "source": [
    "Q) What is VIF and what is the use of VIF in ML?\n",
    "\n",
    "* VIF stands or Variance Inflaction Factor. It is used to find the multicorrelationality between independent features in the model.\n",
    "\n",
    "\n",
    "* When 2 or more independent features are highly correlated it may cause a problem of complexity and overfitting in our model. So to prevent this probelm we drop one of the feature."
   ]
  },
  {
   "cell_type": "code",
   "execution_count": null,
   "id": "394e5442",
   "metadata": {},
   "outputs": [],
   "source": []
  },
  {
   "cell_type": "markdown",
   "id": "b7572589",
   "metadata": {},
   "source": [
    "Q) What is the difference between simple and multiple correlation? / What is correlation and multi-correlation?\n",
    "\n",
    "\n",
    "* When two variables are studied to determine correlation, it is called simple correlation on the other hand when more than two variables are studied to determine the correlation it is called multiple correlation."
   ]
  },
  {
   "cell_type": "code",
   "execution_count": null,
   "id": "f067bc92",
   "metadata": {},
   "outputs": [],
   "source": []
  },
  {
   "cell_type": "markdown",
   "id": "44b0d1d1",
   "metadata": {},
   "source": [
    "Q) What is the general meaning of bias?\n",
    "\n",
    "* Biased means when there are several options of equal weightage but the person or model choose any one particular option of their choice everytime."
   ]
  },
  {
   "cell_type": "code",
   "execution_count": null,
   "id": "b0035395",
   "metadata": {},
   "outputs": [],
   "source": []
  },
  {
   "cell_type": "markdown",
   "id": "e31846e0",
   "metadata": {},
   "source": [
    "Q) What is bias in Machine Learning?\n",
    "\n",
    "* Bias is a measurement of how accurately a model can capture a pattern in trainning dataset.\n",
    "\n",
    "\n",
    "* The inability of a Machine Learning Model to truly capture the relationship in the trainning data.\n"
   ]
  },
  {
   "cell_type": "code",
   "execution_count": null,
   "id": "3dfdb82d",
   "metadata": {},
   "outputs": [],
   "source": []
  },
  {
   "cell_type": "markdown",
   "id": "ada9aab4",
   "metadata": {},
   "source": [
    "Q) What is Variance?\n",
    "\n",
    "* Variance is basically difference of fit on different datasets. It means the difference of errors between different datasets is called variance.\n"
   ]
  },
  {
   "cell_type": "code",
   "execution_count": null,
   "id": "9916bb40",
   "metadata": {},
   "outputs": [],
   "source": []
  },
  {
   "cell_type": "markdown",
   "id": "c351035b",
   "metadata": {},
   "source": [
    "Q) What is overfitting? How can it be avoided?\n",
    "\n",
    "\n",
    "* When a model perform well on trainning data and perform not so good on test data or we can say when the model has low bias and high variance then it is called a overfit model.\n",
    "\n",
    "\n",
    "There are several ways to avoid overfitting :-\n",
    "\n",
    "\n",
    "* Increase the amount of training data.\n",
    "\n",
    "\n",
    "* Select only most relevant features from the dataset. This can help to reduce the complexity of the model and avoid overfitting.\n",
    "\n",
    "\n",
    "* Hpyerparameter Tunning.\n",
    "\n",
    "\n",
    "* Using Ensemble Machine Learning Algorithms."
   ]
  },
  {
   "cell_type": "code",
   "execution_count": null,
   "id": "ca61216a",
   "metadata": {},
   "outputs": [],
   "source": []
  },
  {
   "cell_type": "markdown",
   "id": "276d42cb",
   "metadata": {},
   "source": [
    "Q)  What is underfitting?\n",
    "* When a model perform well on test data and perform not so good on trainning data or we can say when the model has high bias and low variance then it is called a underfit model."
   ]
  },
  {
   "cell_type": "code",
   "execution_count": null,
   "id": "3380e56d",
   "metadata": {},
   "outputs": [],
   "source": []
  },
  {
   "cell_type": "markdown",
   "id": "e97f0550",
   "metadata": {},
   "source": [
    "Q) What is Loss Function or Cost Function in Machine Learning?\n",
    "\n",
    "\n",
    "* Loss function also known as a cost function. It measures how well a machine learning model is performing on training data. It quantifies the difference between the predicted output and the actual output for a given input, and the objective is to minimize this difference during training so that the model can accurately predict outputs for new data.\n",
    "\n",
    "\n",
    "* In simpler words, the loss or cost function tells us how bad our model is performing and helps us improve it by minimizing this badness. "
   ]
  },
  {
   "cell_type": "code",
   "execution_count": null,
   "id": "47238ae3",
   "metadata": {},
   "outputs": [],
   "source": []
  },
  {
   "cell_type": "markdown",
   "id": "80f252f2",
   "metadata": {},
   "source": [
    "Q) What is Machine Learning?\n",
    "\n",
    "* Machine Learning is the science of getting computers to learn and act like humans do, and improve their learning over time, by feeding them data and information in the form of observations and real-world interactions.\n",
    "\n",
    "\n",
    "* Machine Learning is a subset of Artificial Intelligence which enables machines to learn from past data or experience and predict the future.\n",
    "\n",
    "\n",
    "* Machine learning is a subset of artificial intelligence that involves building algorithms and models that can learn patterns and relationships from data and make predictions or decisions based on that learning.\n",
    "\n",
    "\n",
    "* It's a technique to achieve AI through algorithms."
   ]
  },
  {
   "cell_type": "code",
   "execution_count": null,
   "id": "459f7c7a",
   "metadata": {},
   "outputs": [],
   "source": []
  },
  {
   "cell_type": "markdown",
   "id": "8b7a37ce",
   "metadata": {},
   "source": [
    "Q) What are the different types of machine learning?\n",
    "\n",
    "* Supervised Learning\n",
    "\n",
    "\n",
    "* Unsupervised Learning \n",
    "\n",
    "\n",
    "* Semi-supervised Learning\n",
    "\n",
    "\n",
    "* Reinforcement Learning"
   ]
  },
  {
   "cell_type": "code",
   "execution_count": null,
   "id": "fa94cc28",
   "metadata": {},
   "outputs": [],
   "source": []
  },
  {
   "cell_type": "markdown",
   "id": "f676bb11",
   "metadata": {},
   "source": [
    "Q) What is Supervised Learning?\n",
    "\n",
    "* Supervised learning is a type of machine learning where the algorithm is trained on a labeled dataset, where the correct answers are provided, and the algorithm learns to make predictions based on that training data."
   ]
  },
  {
   "cell_type": "code",
   "execution_count": null,
   "id": "64aae94a",
   "metadata": {},
   "outputs": [],
   "source": []
  },
  {
   "cell_type": "markdown",
   "id": "1a5d11ae",
   "metadata": {},
   "source": [
    "Q) What is Unsupervised Learning?\n",
    "\n",
    "* Unsupervised learning is a type of machine learning where the algorithm is trained on an unlabeled dataset, where there are no correct answers provided, and the algorithm learns to identify patterns and relationships in the data."
   ]
  },
  {
   "cell_type": "code",
   "execution_count": null,
   "id": "92f218fb",
   "metadata": {},
   "outputs": [],
   "source": []
  },
  {
   "cell_type": "markdown",
   "id": "5a6dceb3",
   "metadata": {},
   "source": [
    "Q) What is the difference between supervised and unsupervised learning?\n",
    "\n",
    "\n",
    "* In Supervised Learning, you train the machine using data which is well \"labeled\", i.e some input data is already tagged with correct answer and by this algorithm learns from labeled training data that helps you to predict the further outcomes.\n",
    "\n",
    "\n",
    "* In unsupervised machine learning, you train the machine using data which is \"unlabeled\" and models itself find the hidden patterns and insights from the given data."
   ]
  },
  {
   "cell_type": "code",
   "execution_count": null,
   "id": "a1333127",
   "metadata": {},
   "outputs": [],
   "source": []
  },
  {
   "cell_type": "markdown",
   "id": "4ee26085",
   "metadata": {},
   "source": [
    "Q) What are some popular Machine Learning algorithms?\n",
    "\n",
    "* Some popular machine learning algorithms include Linear Regression, Logistic Regression, Decision Trees, Random Forests, Support Vector Machines, and KNN(K-Nearest Neighbour)."
   ]
  },
  {
   "cell_type": "code",
   "execution_count": null,
   "id": "a21cc51a",
   "metadata": {},
   "outputs": [],
   "source": []
  },
  {
   "cell_type": "markdown",
   "id": "bc00ff92",
   "metadata": {},
   "source": [
    "Q) How do you handle missing data in a dataset?\n",
    "\n",
    "\n",
    "We have to deal with missing data :-\n",
    "\n",
    "\n",
    "* Remove the missing data: Remove the rows and columns where the missing values are high. It is effective when the data contains small amount of missing values.\n",
    "\n",
    "\n",
    "* Fill the missing values by Mean, Median, Mode."
   ]
  },
  {
   "cell_type": "code",
   "execution_count": null,
   "id": "19b032cf",
   "metadata": {},
   "outputs": [],
   "source": []
  },
  {
   "cell_type": "markdown",
   "id": "c61c3f43",
   "metadata": {},
   "source": [
    "Q) What evaluation metrics do you use to evaluate a model's performance?\n",
    "\n",
    "\n",
    "There are many evaluation metrics which we use to evaluate the performance of a model. Evaluation metrics depends on the problem statement. For regression problem we use :-\n",
    "\n",
    "\n",
    "* Mean Absolute Error (MAE)\n",
    "\n",
    "\n",
    "* Mean Squared Error (MSE)\n",
    "\n",
    "\n",
    "* Root Mean Squared Error (RMSE)\n",
    "\n",
    "\n",
    "* R-Squared or R2 Score\n",
    "\n",
    "\n",
    "* Adjusted R-Squared or Adjusted R2 Score\n",
    "\n",
    "\n",
    "For Classification problem we use :-\n",
    "\n",
    "\n",
    "* Accuracy Score\n",
    "\n",
    "\n",
    "* Precision\n",
    "\n",
    "\n",
    "* Recall/Sensitivity \n",
    "\n",
    "\n",
    "* F1-score\n",
    "\n",
    "\n",
    "* Specificity\n",
    "\n",
    "\n",
    "* ROC-AUC Curve (Receiver Operating Characteristic Curve)\n",
    "\n",
    "Note:- Cross-validation techniques can also be used to estimate the generalization performance of the model. It is used in both problem statements Regression as well as classification."
   ]
  },
  {
   "cell_type": "code",
   "execution_count": null,
   "id": "9d3b228c",
   "metadata": {},
   "outputs": [],
   "source": []
  },
  {
   "cell_type": "markdown",
   "id": "12c992c5",
   "metadata": {},
   "source": [
    "Q) What do you understand by degree of variablity in ML?\n",
    "\n",
    "\n",
    "* In machine learning, the degree of variability refers to how well a machine learning model can generalize its performance on new and unseen data. It is a measure to find the variance of a model's performance across different datasets or subsets of data."
   ]
  },
  {
   "cell_type": "code",
   "execution_count": null,
   "id": "8270dfb5",
   "metadata": {},
   "outputs": [],
   "source": []
  },
  {
   "cell_type": "markdown",
   "id": "b3e1d312",
   "metadata": {},
   "source": [
    "Q) What is Data Preprocessing in Machine Learning?\n",
    "\n",
    "* Data preprocessing involves preparing and cleaning data before feeding it into a machine learning model. This can include tasks such as data cleaning, feature scaling, and feature selection."
   ]
  },
  {
   "cell_type": "code",
   "execution_count": null,
   "id": "ad66bae9",
   "metadata": {},
   "outputs": [],
   "source": []
  },
  {
   "cell_type": "markdown",
   "id": "7ec8851c",
   "metadata": {},
   "source": [
    "Q) What is the difference between Regression and Classification?\n",
    "\n",
    "* Regression is a type of machine learning where the algorithm predicts a continuous numerical value, while classification is a type of machine learning where the algorithm predicts a categorical value."
   ]
  },
  {
   "cell_type": "code",
   "execution_count": null,
   "id": "5cb898e5",
   "metadata": {},
   "outputs": [],
   "source": []
  },
  {
   "cell_type": "markdown",
   "id": "ee0e274b",
   "metadata": {},
   "source": [
    "Q) How do you handle missing data in a dataset?\n",
    "\n",
    "Handling missing data is an important task in data science as missing data can lead to inaccurate results.\n",
    "\n",
    "\n",
    "1) Deletion: One way to handle missing data is to simply delete the rows or columns with missing values. This technique is useful when the missing data is relatively small compared to the overall dataset.\n",
    "\n",
    "\n",
    "2) Imputation: Imputation involves filling in missing data with estimated values. There are several ways to perform imputation, including mean imputation, mode imputation, and median imputation.\n",
    "\n",
    "\n",
    "3) Model-based imputation: Model-based imputation involves using machine learning algorithms to predict the missing values based on the other variables in the dataset. This technique can be more accurate than simple imputation methods and can handle complex relationships between variables.\n",
    "\n",
    "\n",
    "4) Fill the missing values with the help of client and domain expert."
   ]
  },
  {
   "cell_type": "code",
   "execution_count": null,
   "id": "bb2509de",
   "metadata": {},
   "outputs": [],
   "source": []
  },
  {
   "cell_type": "markdown",
   "id": "48bb43d4",
   "metadata": {},
   "source": [
    "Q) How do you select features for a machine learning model?\n",
    "\n",
    "Feature selection is an important step in machine learning, as it helps to improve the model's performance, reduce overfitting, and make the model more interpretable. Here are some common methods for selecting features for a machine learning model:-\n",
    "\n",
    "\n",
    "1) Correlation matrix: Calculate the correlation between each feature and the target variable, and select the features with the highest correlation values. Features with low correlation may not be relevant to the model and can be dropped.\n",
    "\n",
    "\n",
    "2) Univariate feature selection: This method selects the features with the highest scores based on univariate statistical tests such as chi-squared test, ANOVA F-test, or mutual information. These tests measure the dependence between each feature and the target variable.\n",
    "\n",
    "\n",
    "3) Recursive feature elimination:- Recursive Feature Elimination (RFE) is a feature selection technique that uses a machine learning algorithm. Model trainned on all features then after it will provide a given number of important features of the dataset based on their on their P-Value and their importance in model building. \n",
    "\n",
    "\n",
    "4) Variance Inflation Factor (VIF):- It is a statistical measure used to detect multicollinearity in regression analysis, and it can also be used as a feature selection technique in certain cases. When multicollinearity is present, VIF values will be high for the affected features, indicating that the features are not contributing unique information to the model. Removing these features can improve the performance and interpretability of the model.\n",
    "\n",
    "\n",
    "5) Principal Component Analysis (PCA): PCA is a dimensionality reduction technique that transforms the features into a lower-dimensional space while retaining most of the information. The transformed features can be used as input to the model.\n",
    "\n",
    "\n",
    "6) Domain knowledge: Domain knowledge can be used to identify the most relevant features for the model. This can be done by consulting with subject matter experts or by analyzing the data and identifying the features that are most likely to be relevant.\n"
   ]
  },
  {
   "cell_type": "code",
   "execution_count": null,
   "id": "9db50ce5",
   "metadata": {},
   "outputs": [],
   "source": []
  },
  {
   "cell_type": "markdown",
   "id": "ac149068",
   "metadata": {},
   "source": [
    " What is K-Means Clustering and how does it work?\n",
    "\n",
    "Answer: K-Means Clustering is a popular unsupervised machine learning algorithm used for clustering data points into groups or clusters based on their similarity. The algorithm works by partitioning the dataset into K clusters, where K is the number of clusters specified by the user. The clusters are created by minimizing the sum of the squared distance between each data point and the centroid of its assigned cluster. The algorithm iteratively assigns data points to their nearest centroid, recalculates the centroids, and repeats until the centroids no longer move or a maximum number of iterations is reached.\n",
    "\n",
    "The K-Means Clustering algorithm works as follows:\n",
    "\n",
    "Choose the number of clusters, K.\n",
    "Initialize K centroids randomly.\n",
    "Assign each data point to the nearest centroid, creating K clusters.\n",
    "Calculate the centroid of each cluster.\n",
    "Repeat steps 3-4 until the centroids no longer move or a maximum number of iterations is reached.\n",
    "The quality of the clustering is measured using the within-cluster sum of squares (WCSS), which represents the sum of the squared distance between each data point and its assigned centroid. The goal of the algorithm is to minimize the WCSS by creating clusters that are compact and well-separated.\n",
    "\n",
    "K-Means Clustering is widely used for a variety of applications, including market segmentation, image segmentation, and anomaly detection. However, it is important to note that the performance of the algorithm can be sensitive to the choice of K and the initial random centroids, and it may not work well for all types of data. Therefore, it is recommended to evaluate the clustering results using external validation metrics and to try different values of K and initialization methods.\n",
    "\n",
    "\n",
    "\n",
    "\n"
   ]
  },
  {
   "cell_type": "code",
   "execution_count": null,
   "id": "ce03d311",
   "metadata": {},
   "outputs": [],
   "source": []
  }
 ],
 "metadata": {
  "kernelspec": {
   "display_name": "Python 3 (ipykernel)",
   "language": "python",
   "name": "python3"
  },
  "language_info": {
   "codemirror_mode": {
    "name": "ipython",
    "version": 3
   },
   "file_extension": ".py",
   "mimetype": "text/x-python",
   "name": "python",
   "nbconvert_exporter": "python",
   "pygments_lexer": "ipython3",
   "version": "3.9.13"
  }
 },
 "nbformat": 4,
 "nbformat_minor": 5
}
