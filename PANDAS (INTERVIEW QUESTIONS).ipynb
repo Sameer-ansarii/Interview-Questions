{
 "cells": [
  {
   "cell_type": "code",
   "execution_count": 1,
   "id": "4f128d43",
   "metadata": {},
   "outputs": [
    {
     "data": {
      "text/html": [
       "<div>\n",
       "<style scoped>\n",
       "    .dataframe tbody tr th:only-of-type {\n",
       "        vertical-align: middle;\n",
       "    }\n",
       "\n",
       "    .dataframe tbody tr th {\n",
       "        vertical-align: top;\n",
       "    }\n",
       "\n",
       "    .dataframe thead th {\n",
       "        text-align: right;\n",
       "    }\n",
       "</style>\n",
       "<table border=\"1\" class=\"dataframe\">\n",
       "  <thead>\n",
       "    <tr style=\"text-align: right;\">\n",
       "      <th></th>\n",
       "      <th>Name</th>\n",
       "      <th>Age</th>\n",
       "      <th>City</th>\n",
       "    </tr>\n",
       "  </thead>\n",
       "  <tbody>\n",
       "    <tr>\n",
       "      <th>0</th>\n",
       "      <td>John</td>\n",
       "      <td>25</td>\n",
       "      <td>New York</td>\n",
       "    </tr>\n",
       "    <tr>\n",
       "      <th>1</th>\n",
       "      <td>Emma</td>\n",
       "      <td>28</td>\n",
       "      <td>London</td>\n",
       "    </tr>\n",
       "    <tr>\n",
       "      <th>2</th>\n",
       "      <td>David</td>\n",
       "      <td>31</td>\n",
       "      <td>Paris</td>\n",
       "    </tr>\n",
       "    <tr>\n",
       "      <th>3</th>\n",
       "      <td>Sophia</td>\n",
       "      <td>24</td>\n",
       "      <td>Sydney</td>\n",
       "    </tr>\n",
       "  </tbody>\n",
       "</table>\n",
       "</div>"
      ],
      "text/plain": [
       "     Name  Age      City\n",
       "0    John   25  New York\n",
       "1    Emma   28    London\n",
       "2   David   31     Paris\n",
       "3  Sophia   24    Sydney"
      ]
     },
     "execution_count": 1,
     "metadata": {},
     "output_type": "execute_result"
    }
   ],
   "source": [
    "import pandas as pd\n",
    "\n",
    "#creating a dataframe\n",
    "df = pd.DataFrame({'Name': ['John', 'Emma', 'David', 'Sophia'],\n",
    "        'Age': [25, 28, 31, 24],\n",
    "        'City': ['New York', 'London', 'Paris', 'Sydney']})\n",
    "\n",
    "df"
   ]
  },
  {
   "cell_type": "code",
   "execution_count": null,
   "id": "b13b45d0",
   "metadata": {},
   "outputs": [],
   "source": []
  },
  {
   "cell_type": "markdown",
   "id": "7551512c",
   "metadata": {},
   "source": [
    "### Q) What is Pandas and it's use?\n",
    "\n",
    "* Pandas is a open-source Python library use for data manipulation and data analysis. \n",
    "\n",
    "It's use:-\n",
    "\n",
    "1) We can handle structure data in form of tables in pandas. \n",
    "\n",
    "\n",
    "2) We can perform many data manipulation and data analysis tasks using pandas, such as dropping column, checking the null values in the data and fill it, check the skewness of a particular variable, check data types of all columns and many more things we can perfrom using pandas library.\n",
    "\n",
    "\n",
    "3) Pandas library is widely used in data science, finance, and many other fields for data analysis and data manipulation tasks."
   ]
  },
  {
   "cell_type": "code",
   "execution_count": null,
   "id": "f37700f5",
   "metadata": {},
   "outputs": [],
   "source": []
  },
  {
   "cell_type": "markdown",
   "id": "6ec79a42",
   "metadata": {},
   "source": [
    "### Q) You have a DataFrame in Pandas columns, how to make a new column between 2nd and 3rd column?\n",
    "\n",
    "\n",
    "* We using df.insert() function and the code will be df.inseri(index no. of column, 'column name', variable of new column values)."
   ]
  },
  {
   "cell_type": "code",
   "execution_count": 2,
   "id": "72290cb7",
   "metadata": {},
   "outputs": [
    {
     "data": {
      "text/html": [
       "<div>\n",
       "<style scoped>\n",
       "    .dataframe tbody tr th:only-of-type {\n",
       "        vertical-align: middle;\n",
       "    }\n",
       "\n",
       "    .dataframe tbody tr th {\n",
       "        vertical-align: top;\n",
       "    }\n",
       "\n",
       "    .dataframe thead th {\n",
       "        text-align: right;\n",
       "    }\n",
       "</style>\n",
       "<table border=\"1\" class=\"dataframe\">\n",
       "  <thead>\n",
       "    <tr style=\"text-align: right;\">\n",
       "      <th></th>\n",
       "      <th>Name</th>\n",
       "      <th>Age</th>\n",
       "      <th>Sex</th>\n",
       "      <th>City</th>\n",
       "    </tr>\n",
       "  </thead>\n",
       "  <tbody>\n",
       "    <tr>\n",
       "      <th>0</th>\n",
       "      <td>John</td>\n",
       "      <td>25</td>\n",
       "      <td>M</td>\n",
       "      <td>New York</td>\n",
       "    </tr>\n",
       "    <tr>\n",
       "      <th>1</th>\n",
       "      <td>Emma</td>\n",
       "      <td>28</td>\n",
       "      <td>F</td>\n",
       "      <td>London</td>\n",
       "    </tr>\n",
       "    <tr>\n",
       "      <th>2</th>\n",
       "      <td>David</td>\n",
       "      <td>31</td>\n",
       "      <td>M</td>\n",
       "      <td>Paris</td>\n",
       "    </tr>\n",
       "    <tr>\n",
       "      <th>3</th>\n",
       "      <td>Sophia</td>\n",
       "      <td>24</td>\n",
       "      <td>F</td>\n",
       "      <td>Sydney</td>\n",
       "    </tr>\n",
       "  </tbody>\n",
       "</table>\n",
       "</div>"
      ],
      "text/plain": [
       "     Name  Age Sex      City\n",
       "0    John   25   M  New York\n",
       "1    Emma   28   F    London\n",
       "2   David   31   M     Paris\n",
       "3  Sophia   24   F    Sydney"
      ]
     },
     "execution_count": 2,
     "metadata": {},
     "output_type": "execute_result"
    }
   ],
   "source": [
    "# By using df.insert() function\n",
    "# Format df.insert(index, 'new column name', Variable of new column values)\n",
    "\n",
    "Sex = ['M', 'F', 'M', 'F']\n",
    "\n",
    "df.insert(2, 'Sex', Sex)\n",
    "\n",
    "df"
   ]
  },
  {
   "cell_type": "code",
   "execution_count": null,
   "id": "ac0a7cd6",
   "metadata": {},
   "outputs": [],
   "source": []
  },
  {
   "cell_type": "markdown",
   "id": "cb41322c",
   "metadata": {},
   "source": [
    "### Q) How to delete a column and add a new ones in it's index position?"
   ]
  },
  {
   "cell_type": "code",
   "execution_count": 3,
   "id": "6b24824a",
   "metadata": {},
   "outputs": [
    {
     "data": {
      "text/html": [
       "<div>\n",
       "<style scoped>\n",
       "    .dataframe tbody tr th:only-of-type {\n",
       "        vertical-align: middle;\n",
       "    }\n",
       "\n",
       "    .dataframe tbody tr th {\n",
       "        vertical-align: top;\n",
       "    }\n",
       "\n",
       "    .dataframe thead th {\n",
       "        text-align: right;\n",
       "    }\n",
       "</style>\n",
       "<table border=\"1\" class=\"dataframe\">\n",
       "  <thead>\n",
       "    <tr style=\"text-align: right;\">\n",
       "      <th></th>\n",
       "      <th>Name</th>\n",
       "      <th>Age</th>\n",
       "      <th>Sex</th>\n",
       "      <th>Address</th>\n",
       "    </tr>\n",
       "  </thead>\n",
       "  <tbody>\n",
       "    <tr>\n",
       "      <th>0</th>\n",
       "      <td>John</td>\n",
       "      <td>25</td>\n",
       "      <td>M</td>\n",
       "      <td>delhi</td>\n",
       "    </tr>\n",
       "    <tr>\n",
       "      <th>1</th>\n",
       "      <td>Emma</td>\n",
       "      <td>28</td>\n",
       "      <td>F</td>\n",
       "      <td>mumbai</td>\n",
       "    </tr>\n",
       "    <tr>\n",
       "      <th>2</th>\n",
       "      <td>David</td>\n",
       "      <td>31</td>\n",
       "      <td>M</td>\n",
       "      <td>kolkata</td>\n",
       "    </tr>\n",
       "    <tr>\n",
       "      <th>3</th>\n",
       "      <td>Sophia</td>\n",
       "      <td>24</td>\n",
       "      <td>F</td>\n",
       "      <td>chennai</td>\n",
       "    </tr>\n",
       "  </tbody>\n",
       "</table>\n",
       "</div>"
      ],
      "text/plain": [
       "     Name  Age Sex  Address\n",
       "0    John   25   M    delhi\n",
       "1    Emma   28   F   mumbai\n",
       "2   David   31   M  kolkata\n",
       "3  Sophia   24   F  chennai"
      ]
     },
     "execution_count": 3,
     "metadata": {},
     "output_type": "execute_result"
    }
   ],
   "source": [
    "df.drop('City',axis=1,inplace=True)\n",
    "\n",
    "Location = ['delhi', 'mumbai', 'kolkata', 'chennai']\n",
    "\n",
    "df.insert(3, 'Address', Location)\n",
    "\n",
    "df"
   ]
  },
  {
   "cell_type": "code",
   "execution_count": null,
   "id": "e3301f23",
   "metadata": {},
   "outputs": [],
   "source": []
  },
  {
   "cell_type": "markdown",
   "id": "622c8336",
   "metadata": {},
   "source": [
    "### Q) What is the use of inplace=True parameter.\n",
    "\n",
    "* inplace is a inbuild parameter in pandas which is used to manipulate the original dataset directly. For eg: we write a code that df.drop('column name', axis=1, inplace=True), which means it will drop that column permantly even in the original dataset."
   ]
  },
  {
   "cell_type": "code",
   "execution_count": null,
   "id": "adff1d14",
   "metadata": {},
   "outputs": [],
   "source": []
  },
  {
   "cell_type": "markdown",
   "id": "296cbb3c",
   "metadata": {},
   "source": [
    "### Q) What is Pivot Table?\n",
    "\n",
    "* Pivot table is a type of customize table where we can customize the index, columns and data inside the table by taking original data of original dataset. It is use for data anlayis and data summarization. In pivot table we can use aggregation functions, such as count, sum, mean and median."
   ]
  },
  {
   "cell_type": "code",
   "execution_count": null,
   "id": "59a09d6a",
   "metadata": {},
   "outputs": [],
   "source": []
  },
  {
   "cell_type": "markdown",
   "id": "2962db8f",
   "metadata": {},
   "source": [
    "### Q) How to find null values?\n",
    "\n",
    "* By using df.isnull().sum()"
   ]
  },
  {
   "cell_type": "code",
   "execution_count": null,
   "id": "f1c2fba1",
   "metadata": {},
   "outputs": [],
   "source": []
  },
  {
   "cell_type": "markdown",
   "id": "43467cef",
   "metadata": {},
   "source": [
    "### Q) How to drop a column in pandas?\n",
    "\n",
    "* We use df.drop('column name', axis = 1, inplace = True)"
   ]
  },
  {
   "cell_type": "code",
   "execution_count": null,
   "id": "d950444c",
   "metadata": {},
   "outputs": [],
   "source": []
  },
  {
   "cell_type": "markdown",
   "id": "1d2afe24",
   "metadata": {},
   "source": [
    "### Q) How to compute mode in pamdas?\n",
    "* By using df.mode() function, it will give mode of every column."
   ]
  },
  {
   "cell_type": "code",
   "execution_count": null,
   "id": "67ed2181",
   "metadata": {},
   "outputs": [],
   "source": []
  },
  {
   "cell_type": "markdown",
   "id": "0fa49164",
   "metadata": {},
   "source": [
    "### Q) How to compute variance & standard deviation in pandas?\n",
    "\n",
    "By using df.var() function we compute variance of all columns and by using df.std() function we compute standard deviation of all columns."
   ]
  },
  {
   "cell_type": "code",
   "execution_count": null,
   "id": "4faf629a",
   "metadata": {},
   "outputs": [],
   "source": []
  },
  {
   "cell_type": "markdown",
   "id": "4ce3139a",
   "metadata": {},
   "source": [
    "### Q) How to compute covariance and correlation in pandas?\n",
    "\n",
    "* By using df.cov() function it will compute covariance and by using using df.corr('pearson') it will compute Pearson's coefficient Correlation and by using df.corr('spearman') it will compute Spearman's rank correlation."
   ]
  },
  {
   "cell_type": "code",
   "execution_count": null,
   "id": "5c3229c3",
   "metadata": {},
   "outputs": [],
   "source": []
  }
 ],
 "metadata": {
  "kernelspec": {
   "display_name": "Python 3 (ipykernel)",
   "language": "python",
   "name": "python3"
  },
  "language_info": {
   "codemirror_mode": {
    "name": "ipython",
    "version": 3
   },
   "file_extension": ".py",
   "mimetype": "text/x-python",
   "name": "python",
   "nbconvert_exporter": "python",
   "pygments_lexer": "ipython3",
   "version": "3.9.13"
  }
 },
 "nbformat": 4,
 "nbformat_minor": 5
}
