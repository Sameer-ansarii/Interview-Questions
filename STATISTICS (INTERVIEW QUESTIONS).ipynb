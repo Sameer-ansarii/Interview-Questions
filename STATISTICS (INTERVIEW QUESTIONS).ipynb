{
 "cells": [
  {
   "cell_type": "markdown",
   "id": "36e807e0",
   "metadata": {},
   "source": [
    "Q1) What is coefficient and what is use of it in ML?\n",
    "\n",
    "\n",
    "* Coefficient represents the slope of best fit line while describe the relationship between two variables X and Y where X is independent variable and y is dependent variable.\n",
    "\n",
    "\n",
    "* Coefficient is a numerical value which used to solve the equation of linear regression and find the value of y. The equation is y = mx+c where m is coefficient or slope. \n",
    "\n",
    "\n",
    "* When we change the value of X the value of Y will also change. Coefficient is a numerical value which tells that by what unit the value of Y will change if we change the value of X. \n",
    "\n",
    "\n",
    "* For example, in the equation y = 3x + 2, the coefficient of x is 3, which means that when x increases by 1, y will increase by 3.\n",
    "\n",
    "\n",
    "* Coefficients can be positive, negative, or zero. A positive coefficient means that it is associated with an increase in the output, while a negative coefficient means that it is associated with a decrease in the output.\n",
    "\n",
    "\n",
    "* coefficients are used in regression analysis to build the relationship between variables and to make predictions."
   ]
  },
  {
   "cell_type": "code",
   "execution_count": null,
   "id": "d150550f",
   "metadata": {},
   "outputs": [],
   "source": []
  },
  {
   "cell_type": "markdown",
   "id": "8b307047",
   "metadata": {},
   "source": [
    "Q2) What is intercept and what is their use in ML? / What is intercept of coefficient?\n",
    "\n",
    "\n",
    "* If the value of x is 0 then at what point it will intercept the best fit line on y axis that point is called intercept.\n",
    "\n",
    "\n",
    "* The value of intercept will remain same in regression only the value of coefficient will change.\n",
    "\n",
    "\n",
    "* Intercept is also known as Constant. We need the value of intercept to find the value of y because y = mx+c where the c is intercept."
   ]
  },
  {
   "cell_type": "code",
   "execution_count": null,
   "id": "d4a2dd21",
   "metadata": {},
   "outputs": [],
   "source": []
  },
  {
   "cell_type": "markdown",
   "id": "7d7a17c2",
   "metadata": {},
   "source": [
    "Q3) What is Variance and what is their use in ML?\n",
    "\n",
    "\n",
    "* In statistics and machine learning, variance is a measure of the variability or spread of a set of data points around their mean or average value. OR\n",
    "\n",
    "\n",
    "* Variance measure how data points of dataset are spread around their mean value and what is the difference between the data points and their mean value. \n",
    "\n",
    "\n",
    "* Variance tells the difference between different datasets or different features.\n",
    "\n",
    "\n",
    "* Variance is squared difference of data points from it's mean value. The value of variance is in square.\n",
    "\n",
    "\n",
    "* In machine learning, variance can be used to evaluate the performance of a model on a training dataset, and it is used to assess how well the model generalizes to new, unseen data.\n",
    "\n",
    "\n",
    "* If a model has high variance, it means that it is overfitting to the training data, which means that it is memorizing the noise in the data rather than capturing the underlying patterns. In this case, the model may perform well on the training data but poorly on new, unseen data.\n",
    "\n",
    "\n",
    "* On the other hand, if a model has low variance, it means that it is underfitting the data, which means that it is oversimplifying the relationships between the input and output variables. In this case, the model may perform poorly on both the training data and new, unseen data.\n",
    "\n",
    "\n",
    "* To reduce variance in a model, techniques such as regularization can be used. Regularization helps to prevent overfitting by adding a penalty term to the objective function that the model is optimizing.\n",
    "\n",
    "\n",
    "* In summary, variance is an important concept in machine learning, as it helps to evaluate the performance and generalization ability of a model, and to identify and address problems such as overfitting and underfitting."
   ]
  },
  {
   "cell_type": "code",
   "execution_count": null,
   "id": "68096ac8",
   "metadata": {},
   "outputs": [],
   "source": []
  },
  {
   "cell_type": "code",
   "execution_count": null,
   "id": "79e3ad54",
   "metadata": {},
   "outputs": [],
   "source": []
  },
  {
   "cell_type": "code",
   "execution_count": null,
   "id": "61bcd71f",
   "metadata": {},
   "outputs": [],
   "source": []
  }
 ],
 "metadata": {
  "kernelspec": {
   "display_name": "Python 3 (ipykernel)",
   "language": "python",
   "name": "python3"
  },
  "language_info": {
   "codemirror_mode": {
    "name": "ipython",
    "version": 3
   },
   "file_extension": ".py",
   "mimetype": "text/x-python",
   "name": "python",
   "nbconvert_exporter": "python",
   "pygments_lexer": "ipython3",
   "version": "3.9.13"
  }
 },
 "nbformat": 4,
 "nbformat_minor": 5
}
