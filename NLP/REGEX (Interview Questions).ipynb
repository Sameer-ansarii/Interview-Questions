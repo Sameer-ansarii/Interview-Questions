{
 "cells": [
  {
   "cell_type": "markdown",
   "id": "c2ba9a65",
   "metadata": {},
   "source": [
    "Q1) What is Regular Expression?\n",
    "\n",
    "* A regular expression, also known as regex, is a special sequence of characters that defines a search pattern to find a string or set of strings, such as a word or a sentence.\n",
    "\n",
    "\n",
    "* Regular expression is a search pattern.\n",
    "\n",
    "\n",
    "* It can be used to detect the presence or absence of a text by a given search pattern, and it can detect one or more search patterns.\n",
    "\n",
    "\n",
    "* After detecting the pattern, regular expressions can also replace or manipulate the matched strings based on the given pattern, as well as split the text into one or more subpatterns.\n",
    "\n",
    "\n",
    "* A regular expression is a pattern of characters that is used to match and manipulate text. It is a sequence of characters and metacharacters that represent a set of rules to match one or more strings of text."
   ]
  },
  {
   "cell_type": "code",
   "execution_count": null,
   "id": "4ddbc766",
   "metadata": {},
   "outputs": [],
   "source": []
  },
  {
   "cell_type": "markdown",
   "id": "7a7179a7",
   "metadata": {},
   "source": [
    "Q2) How to use regular expression in python\n",
    "\n",
    "\n",
    "* 're' is a in-built Python library which is used to work with regular expressions.\n",
    "\n",
    "\n",
    "* To use regular expressions in Python, you first need to import the re module."
   ]
  },
  {
   "cell_type": "code",
   "execution_count": null,
   "id": "d6380a90",
   "metadata": {},
   "outputs": [],
   "source": []
  },
  {
   "cell_type": "markdown",
   "id": "af06e7df",
   "metadata": {},
   "source": [
    "Q3) What are the use of Regular Expressions?\n",
    "\n",
    "\n",
    "* Search and replace: You can use regular expressions to search for a pattern in a string and replace it with another string.\n",
    "\n",
    "\n",
    "* Text validation: Regular expressions can be used to validate whether a given string conforms to a specific pattern or format. For example, you could use regular expressions to check whether an email address or phone number is formatted correctly.\n",
    "\n",
    "\n",
    "* Data extraction / Web Scrapping: You can use regular expressions to extract specific data from a larger body of text. For example, you could use regular expressions to extract all of the URLs from an HTML file or you can extract a specific thing from a website.\n",
    "\n",
    "\n",
    "* Parsing and tokenization: Regular expressions can be used to break a string down into smaller pieces or tokens, based on specific patterns or delimiters.\n",
    "\n",
    "\n",
    "* Cleaning and preprocessing: Regular expressions can be used to clean and preprocess text data, such as removing unwanted characters or formatting, before further analysis.\n",
    "\n",
    "\n",
    "* File handling: Regular expressions can be used to search for patterns within a file, such as finding all instances of a specific word or phrase within a text document."
   ]
  },
  {
   "cell_type": "code",
   "execution_count": null,
   "id": "ed775fd3",
   "metadata": {},
   "outputs": [],
   "source": []
  },
  {
   "cell_type": "markdown",
   "id": "4a40b6dd",
   "metadata": {},
   "source": [
    "Q4) What is the difference between greedy and non-greedy matching / approach / regex?\n",
    "\n",
    "\n",
    "* Greedy Approach: In regular expressions, metacharacters like *, +, and { } are greedy by default, which means they try to match as many characters as possible. This means that the pattern will continue to match as many characters as possible, even if it results in a longer overall match.\n",
    "\n",
    "\n",
    "* Non-Greedy Approach: Non-greedy(also known as lazy), match as few characters as possible. You can make a greedy regex to non-greedy by appending a ? to it. This means that the pattern will stop matching as soon as it finds a match that satisfies the pattern, even if it results in a shorter overall match."
   ]
  },
  {
   "cell_type": "code",
   "execution_count": null,
   "id": "3ba843ba",
   "metadata": {},
   "outputs": [],
   "source": []
  },
  {
   "cell_type": "markdown",
   "id": "613e4cc4",
   "metadata": {},
   "source": [
    "Q5) How do you handle escaping special characters in regular expressions?\n",
    "\n",
    "\n",
    "* In regular expressions, certain characters are used as metacharacters to represent special meanings, such as . to match any character and + to match one or more occurrences of the preceding character. To match these characters literally, you need to escape them using a backslash \\ or use square brackests [ ].\n"
   ]
  },
  {
   "cell_type": "code",
   "execution_count": null,
   "id": "776eec2f",
   "metadata": {},
   "outputs": [],
   "source": []
  },
  {
   "cell_type": "markdown",
   "id": "a7e51c99",
   "metadata": {},
   "source": [
    "Q6) Can you give an example of a regular expression pattern to match an email address?"
   ]
  },
  {
   "cell_type": "code",
   "execution_count": 1,
   "id": "8ac794f9",
   "metadata": {},
   "outputs": [
    {
     "name": "stdout",
     "output_type": "stream",
     "text": [
      "Match found: jane.doe@example.com\n",
      "Match found: john_smith123@gmail.com\n",
      "No match found\n"
     ]
    }
   ],
   "source": [
    "import re\n",
    "\n",
    "email_pattern = '^.*@.*\\.com$|^.*@.*\\.(com|in)$'\n",
    "\n",
    "email1 = 'jane.doe@example.com'\n",
    "email2 = 'john_smith123@gmail.com'\n",
    "email3 = 'jane.doe@example.co.uk'\n",
    "\n",
    "match1 = re.search(email_pattern, email1)\n",
    "match2 = re.search(email_pattern, email2)\n",
    "match3 = re.search(email_pattern, email3)\n",
    "\n",
    "if match1:\n",
    "    print('Match found:', match1.group())\n",
    "else:\n",
    "    print('No match found')\n",
    "\n",
    "if match2:\n",
    "    print('Match found:', match2.group())\n",
    "else:\n",
    "    print('No match found')\n",
    "\n",
    "if match3:\n",
    "    print('Match found:', match3.group())\n",
    "else:\n",
    "    print('No match found')\n"
   ]
  },
  {
   "cell_type": "code",
   "execution_count": null,
   "id": "5f9b8a13",
   "metadata": {},
   "outputs": [],
   "source": []
  },
  {
   "cell_type": "markdown",
   "id": "abf9f308",
   "metadata": {},
   "source": [
    "Q7) Write a regular expression to match all the files that have either .exe, .xml or .jar extensions. A valid file name can contain any alphabet, digit and underscore followed by the extension."
   ]
  },
  {
   "cell_type": "code",
   "execution_count": 2,
   "id": "663f0023",
   "metadata": {},
   "outputs": [
    {
     "name": "stdout",
     "output_type": "stream",
     "text": [
      "employees.xml\n",
      "calculator.jar\n",
      "nfsmw.exe\n"
     ]
    }
   ],
   "source": [
    "files = ['employees.xml', 'calculator.jar', 'nfsmw.exe', 'bkgrnd001.jpg', 'sales_report.ppt', 'sameer']\n",
    "\n",
    "pattern = r\".+\\.(exe|xml|jar)$\"\n",
    "\n",
    "for x in files:\n",
    "    if re.search(pattern, x):\n",
    "        print(x)"
   ]
  },
  {
   "cell_type": "code",
   "execution_count": null,
   "id": "9b82f2a0",
   "metadata": {},
   "outputs": [],
   "source": []
  },
  {
   "cell_type": "markdown",
   "id": "8e63881e",
   "metadata": {},
   "source": [
    "Q8) Write a regular expression to match all the addresses that have Koramangala embedded in them.\n",
    "\n",
    "Strings that should match:\n",
    "* 466, 5th block, Koramangala, Bangalore\n",
    "* 4th BLOCK, KORAMANGALA - 560034\n",
    "\n",
    "Strings that shouldn't match:\n",
    "* 999, St. Marks Road, Bangalore"
   ]
  },
  {
   "cell_type": "code",
   "execution_count": 3,
   "id": "e752c0f3",
   "metadata": {},
   "outputs": [
    {
     "name": "stdout",
     "output_type": "stream",
     "text": [
      "466, 5th block, Koramangala, Bangalore\n",
      "4th BLOCK, KORAMANGALA - 560034\n"
     ]
    }
   ],
   "source": [
    "addresses = ['466, 5th block, Koramangala, Bangalore', '4th BLOCK, KORAMANGALA - 560034', '999, St. Marks Road, Bangalore']\n",
    "\n",
    "pattern= r\".*(Koramangala).*\"\n",
    "\n",
    "for x in addresses:\n",
    "    if re.search(pattern, x, re.I):\n",
    "        print(x) # re.search(pattern, text, re.I) give output whether the pattern is in smaller or capital case."
   ]
  },
  {
   "cell_type": "code",
   "execution_count": null,
   "id": "94318936",
   "metadata": {},
   "outputs": [],
   "source": []
  },
  {
   "cell_type": "markdown",
   "id": "ae8bc100",
   "metadata": {},
   "source": [
    "Q9) Write a regular expression that matches either integer numbers or floats upto 2 decimal places.\n",
    "\n",
    "Strings that should match: \n",
    "* 2\n",
    "* 2.3\n",
    "* 4.56\n",
    "* .61\n",
    "\n",
    "Strings that shoudln't match:\n",
    "* 4.567\n",
    "* 75.8792\n",
    "* abc"
   ]
  },
  {
   "cell_type": "code",
   "execution_count": 4,
   "id": "03790c26",
   "metadata": {},
   "outputs": [
    {
     "name": "stdout",
     "output_type": "stream",
     "text": [
      "2\n",
      "2.3\n",
      "4.56\n",
      ".61\n"
     ]
    }
   ],
   "source": [
    "numbers = ['2', '2.3', '4.56', '.61', '4.567', '75.8792', 'abc']\n",
    "\n",
    "pattern= r'^\\d+$|^\\d*[.]\\d{0,2}$'\n",
    "for x in numbers:\n",
    "    if re.search(pattern, x):\n",
    "        print(x)"
   ]
  },
  {
   "cell_type": "code",
   "execution_count": null,
   "id": "9719f4b1",
   "metadata": {},
   "outputs": [],
   "source": []
  },
  {
   "cell_type": "markdown",
   "id": "bce472cc",
   "metadata": {},
   "source": [
    "Q10) Write a regular expression to match the model names of smartphones which follow the following pattern: \n",
    "\n",
    "mobile company name followed by underscore followed by model name followed by underscore followed by model number\n",
    "\n",
    "Strings that should match:\n",
    "* apple_iphone_6\n",
    "* samsung_note_4\n",
    "* google_pixel_2\n",
    "\n",
    "Strings that shouldn’t match:\n",
    "* apple_6\n",
    "* iphone_6\n",
    "* google\\_pixel\\_"
   ]
  },
  {
   "cell_type": "code",
   "execution_count": 5,
   "id": "762b50e8",
   "metadata": {},
   "outputs": [
    {
     "name": "stdout",
     "output_type": "stream",
     "text": [
      "apple_iphone_6\n",
      "samsung_note_4\n",
      "google_pixel_2\n"
     ]
    }
   ],
   "source": [
    "phones = ['apple_iphone_6', 'samsung_note_4', 'google_pixel_2', 'apple_6', 'iphone_6', 'google_pixel_']\n",
    "\n",
    "pattern= r'\\w+_\\w+_\\w{1}$'\n",
    "\n",
    "for x in phones:\n",
    "    if re.search(pattern, x):\n",
    "        print(x)"
   ]
  },
  {
   "cell_type": "code",
   "execution_count": null,
   "id": "c625ecc6",
   "metadata": {},
   "outputs": [],
   "source": []
  },
  {
   "cell_type": "markdown",
   "id": "6a8aa04c",
   "metadata": {},
   "source": [
    "Q11) Write a regular expression that can be used to match the emails present in a database. \n",
    "\n",
    "The pattern of a valid email address is defined as follows:\n",
    "The '@' character can be preceded either by alphanumeric characters, period characters or underscore characters. The length of the part that precedes the '@' character should be between 4 to 20 characters.\n",
    "\n",
    "The '@' character should be followed by a domain name (e.g. gmail.com). The domain name has three parts - a prefix (e.g. 'gmail'), the period character and a suffix (e.g. 'com'). The prefix can have a length between 3 to 15 characters followed by a period character followed by either of these suffixes - 'com', 'in' or 'org'.\n",
    "\n",
    "\n",
    "Emails that should match:\n",
    "* random.guy123@gmail.com\n",
    "* mr_x_in_bombay@gov.in\n",
    "\n",
    "Emails that shouldn’t match:\n",
    "* 1@ued.org\n",
    "* @gmail.com\n",
    "* abc!@yahoo.in\n",
    "* sam_12@gov.us\n",
    "* neeraj@"
   ]
  },
  {
   "cell_type": "code",
   "execution_count": 6,
   "id": "203d63fb",
   "metadata": {},
   "outputs": [
    {
     "name": "stdout",
     "output_type": "stream",
     "text": [
      "random.guy123@gmail.com\n",
      "mr_x_in_bombay@gov.in\n"
     ]
    }
   ],
   "source": [
    "emails = ['random.guy123@gmail.com', 'mr_x_in_bombay@gov.in', '1@ued.org','@gmail.com','abc!@yahoo.in', 'sam_12@gov.us', \n",
    "          'neeraj@']\n",
    "\n",
    "pattern= r'\\w+[._]\\w+@.*\\.(com|in)$'\n",
    "\n",
    "for x in emails:\n",
    "    if re.search(pattern, x):\n",
    "        print(x)"
   ]
  },
  {
   "cell_type": "code",
   "execution_count": null,
   "id": "fb595bba",
   "metadata": {},
   "outputs": [],
   "source": []
  },
  {
   "cell_type": "markdown",
   "id": "8e821bf4",
   "metadata": {},
   "source": [
    "Q12) What are some tips for optimizing regular expressions for performance?\n",
    "\n",
    "* Use specific patterns: Try to use specific patterns that match your data as closely as possible. For example, if you know that your input is always in uppercase, use [A-Z] instead of . to match any character.\n",
    "\n",
    "\n",
    "* Use lazy quantifiers: Use lazy quantifiers such as *?, +?, or ?? instead of greedy quantifiers such as *, +, or ? when possible.\n",
    "\n",
    "\n",
    "* Use character classes: Use character classes such as [a-z] or [0-9] instead of . to match any character.\n",
    "\n",
    "\n",
    "* Use anchors: Use anchors such as ^ and $ to match the start and end of the input string, respectively."
   ]
  },
  {
   "cell_type": "code",
   "execution_count": null,
   "id": "7e5f0568",
   "metadata": {},
   "outputs": [],
   "source": []
  }
 ],
 "metadata": {
  "kernelspec": {
   "display_name": "Python 3 (ipykernel)",
   "language": "python",
   "name": "python3"
  },
  "language_info": {
   "codemirror_mode": {
    "name": "ipython",
    "version": 3
   },
   "file_extension": ".py",
   "mimetype": "text/x-python",
   "name": "python",
   "nbconvert_exporter": "python",
   "pygments_lexer": "ipython3",
   "version": "3.9.13"
  }
 },
 "nbformat": 4,
 "nbformat_minor": 5
}
