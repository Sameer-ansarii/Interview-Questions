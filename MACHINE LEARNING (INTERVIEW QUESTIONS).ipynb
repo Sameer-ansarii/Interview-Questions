{
 "cells": [
  {
   "cell_type": "markdown",
   "id": "c4efe9e9",
   "metadata": {},
   "source": [
    "Q1) What is RFE?\n",
    "\n",
    "\n",
    "* RFE refers to Recursive Feature Elimination.\n",
    "\n",
    "\n",
    "* The work of RFE is to find the best features for our model based on their P-Value.\n",
    "\n",
    "\n",
    "* It is feature selection technique used in Machine Lerarning to select the most important features in a dataset."
   ]
  },
  {
   "cell_type": "code",
   "execution_count": null,
   "id": "d91ba31d",
   "metadata": {},
   "outputs": [],
   "source": []
  },
  {
   "cell_type": "markdown",
   "id": "d61dfa6f",
   "metadata": {},
   "source": [
    "Q2) What is VIF and what is the use of VIF in ML?\n",
    "\n",
    "* VIF stands or Variance Inflaction Factor. It is used to find the multicorrelationality between independent features in the model.\n",
    "\n",
    "\n",
    "* When 2 or more independent features are highly correlated it may cause a problem of complexity and overfitting in our model. So to prevent this probelm we drop one of the feature."
   ]
  },
  {
   "cell_type": "code",
   "execution_count": null,
   "id": "394e5442",
   "metadata": {},
   "outputs": [],
   "source": []
  },
  {
   "cell_type": "markdown",
   "id": "b7572589",
   "metadata": {},
   "source": [
    "Q3) What is the difference between simple and multiple correlation? / What is correlation and multi-correlation?\n",
    "\n",
    "\n",
    "* When two variables are studied to determine correlation, it is called simple correlation on the other hand when more than two variables are studied to determine the correlation it is called multiple correlation."
   ]
  },
  {
   "cell_type": "code",
   "execution_count": null,
   "id": "f067bc92",
   "metadata": {},
   "outputs": [],
   "source": []
  },
  {
   "cell_type": "markdown",
   "id": "e31846e0",
   "metadata": {},
   "source": [
    "\n",
    "Q4) What is bias?\n",
    "\n",
    "* Bias is a measurement of how accurately a model can capture a pattern in trainning dataset.\n",
    "\n",
    "\n",
    "* The inability of a Machine Learning Model to truly capture the relationship in the trainning data.\n"
   ]
  },
  {
   "cell_type": "code",
   "execution_count": null,
   "id": "3dfdb82d",
   "metadata": {},
   "outputs": [],
   "source": []
  },
  {
   "cell_type": "markdown",
   "id": "ada9aab4",
   "metadata": {},
   "source": [
    "Q5) What is Variance?\n",
    "\n",
    "* Variance is basically difference of fit on different datasets. It means the difference of errors between different datasets is called variance.\n"
   ]
  },
  {
   "cell_type": "code",
   "execution_count": null,
   "id": "9916bb40",
   "metadata": {},
   "outputs": [],
   "source": []
  },
  {
   "cell_type": "markdown",
   "id": "c351035b",
   "metadata": {},
   "source": [
    "Q6) What is overfitting? How can it be avoided?\n",
    "\n",
    "\n",
    "* When a model perform well on trainning data and perform not so good on test data or we can say when the model has low bias and high variance then it is called a overfit model.\n",
    "\n",
    "\n",
    "There are several ways to avoid overfitting :-\n",
    "\n",
    "\n",
    "* Increase the amount of training data.\n",
    "\n",
    "\n",
    "* Select only most relevant features from the dataset. This can help to reduce the complexity of the model and avoid overfitting.\n",
    "\n",
    "\n",
    "* Hpyerparameter Tunning.\n",
    "\n",
    "\n",
    "* Cross-Validation :- Select only that subset of data which performs best and reduce overfitting. ****"
   ]
  },
  {
   "cell_type": "code",
   "execution_count": null,
   "id": "ca61216a",
   "metadata": {},
   "outputs": [],
   "source": []
  },
  {
   "cell_type": "markdown",
   "id": "276d42cb",
   "metadata": {},
   "source": [
    "Q7)  What is underfitting?\n",
    "* When a model perform well on test data and perform not so good on trainning data or we can say when the model has high bias and low variance then it is called a underfit model."
   ]
  },
  {
   "cell_type": "code",
   "execution_count": null,
   "id": "3380e56d",
   "metadata": {},
   "outputs": [],
   "source": []
  },
  {
   "cell_type": "markdown",
   "id": "e97f0550",
   "metadata": {},
   "source": [
    "Q8) What is Loss Function or Cost Function in Machine Learning?\n",
    "\n",
    "\n",
    "* Loss function also known as a cost function. It measures how well a machine learning model is performing on training data. It quantifies the difference between the predicted output and the actual output for a given input, and the objective is to minimize this difference during training so that the model can accurately predict outputs for new data.\n",
    "\n",
    "\n",
    "* In simpler words, the loss or cost function tells us how bad our model is performing and helps us improve it by minimizing this badness. "
   ]
  },
  {
   "cell_type": "code",
   "execution_count": 3,
   "id": "aa0d97cb",
   "metadata": {},
   "outputs": [
    {
     "ename": "SyntaxError",
     "evalue": "invalid syntax (1532787434.py, line 7)",
     "output_type": "error",
     "traceback": [
      "\u001b[1;36m  File \u001b[1;32m\"C:\\Users\\HP\\AppData\\Local\\Temp\\ipykernel_4060\\1532787434.py\"\u001b[1;36m, line \u001b[1;32m7\u001b[0m\n\u001b[1;33m    Explain the bias-variance tradeoff in machine learning.\u001b[0m\n\u001b[1;37m            ^\u001b[0m\n\u001b[1;31mSyntaxError\u001b[0m\u001b[1;31m:\u001b[0m invalid syntax\n"
     ]
    }
   ],
   "source": [
    "What is machine learning?\n",
    "What are the different types of machine learning?\n",
    "What is the difference between supervised and unsupervised learning?\n",
    "How do you handle missing data in a dataset?\n",
    "What is overfitting in machine learning? How can it be avoided?\n",
    "What evaluation metrics do you use to evaluate a model's performance?\n",
    "Explain the bias-variance tradeoff in machine learning.\n",
    "What is cross-validation? How is it used in machine learning?\n",
    "What is regularization in machine learning? Why is it important?\n",
    "What is the difference between a parametric and non-parametric model?\n",
    "What is gradient descent? How does it work in machine learning?\n",
    "Explain decision trees and how they can be used for classification.\n",
    "What is the difference between bagging and boosting in machine learning?\n",
    "What is a neural network? How does it work?\n",
    "How do you select features for a machine learning model?"
   ]
  },
  {
   "cell_type": "markdown",
   "id": "80f252f2",
   "metadata": {},
   "source": [
    "Q9) What is Machine Learning?\n",
    "\n",
    "* Machine Learning is the science of getting computers to learn and act like humans do, and improve their learning over time, by feeding them data and information in the form of observations and real-world interactions.\n",
    "\n",
    "\n",
    "* Machine Learning is a subset of Artificial Intelligence which enables machines to learn from past data or experience and predict the future.\n",
    "\n",
    "\n",
    "* It's a technique to achieve AI through algorithms."
   ]
  },
  {
   "cell_type": "code",
   "execution_count": null,
   "id": "459f7c7a",
   "metadata": {},
   "outputs": [],
   "source": []
  },
  {
   "cell_type": "markdown",
   "id": "8b7a37ce",
   "metadata": {},
   "source": [
    "Q10) What are the different types of machine learning?\n",
    "\n",
    "* Supervised Learning\n",
    "\n",
    "\n",
    "* Unsupervised Learning \n",
    "\n",
    "\n",
    "* Semi-supervised Learning\n",
    "\n",
    "\n",
    "* Reinforcement Learning"
   ]
  },
  {
   "cell_type": "code",
   "execution_count": null,
   "id": "56dced18",
   "metadata": {},
   "outputs": [],
   "source": []
  },
  {
   "cell_type": "markdown",
   "id": "5a6dceb3",
   "metadata": {},
   "source": [
    "Q11) What is the difference between supervised and unsupervised learning?\n",
    "\n",
    "\n",
    "* In Supervised Learning, you train the machine using data which is well \"labeled\", i.e some input data is already tagged with correct answer and by this algorithm learns from labeled training data that helps you to predict the further outcomes.\n",
    "\n",
    "\n",
    "* In unsupervised machine learning, you train the machine using data which is \"unlabeled\" and models itself find the hidden patterns and insights from the given data."
   ]
  },
  {
   "cell_type": "code",
   "execution_count": null,
   "id": "a21cc51a",
   "metadata": {},
   "outputs": [],
   "source": []
  },
  {
   "cell_type": "markdown",
   "id": "bc00ff92",
   "metadata": {},
   "source": [
    "Q12) How do you handle missing data in a dataset?\n",
    "\n",
    "\n",
    "We have to deal with missing data :-\n",
    "\n",
    "\n",
    "* Remove the missing data: Remove the rows and columns where the missing values are high. It is effective when the data contains small amount of missing values.\n",
    "\n",
    "\n",
    "* Fill the missing values by Mean, Median, Mode."
   ]
  },
  {
   "cell_type": "code",
   "execution_count": null,
   "id": "19b032cf",
   "metadata": {},
   "outputs": [],
   "source": []
  },
  {
   "cell_type": "markdown",
   "id": "c61c3f43",
   "metadata": {},
   "source": [
    "Q13) What evaluation metrics do you use to evaluate a model's performance?\n",
    "\n",
    "\n",
    "There are many evaluation metrics which we use to evaluate the performance of a model. Evaluation metrics depends on the problem statement. For regression problem we use :-\n",
    "\n",
    "\n",
    "* Mean Absolute Error (MAE)\n",
    "\n",
    "\n",
    "* Mean Squared Error (MSE)\n",
    "\n",
    "\n",
    "* Root Mean Squared Error (RMSE)\n",
    "\n",
    "\n",
    "* R-Squared or R2 Score\n",
    "\n",
    "\n",
    "* Adjusted R-Squared or Adjusted R2 Score\n",
    "\n",
    "\n",
    "For Classification problem we use :-\n",
    "\n",
    "\n",
    "* Accuracy Score\n",
    "\n",
    "\n",
    "* Precision\n",
    "\n",
    "\n",
    "* Recall/Sensitivity \n",
    "\n",
    "\n",
    "* F1-score\n",
    "\n",
    "\n",
    "* Specificity\n",
    "\n",
    "\n",
    "* ROC-AUC Curve (Receiver Operating Characteristic Curve)"
   ]
  },
  {
   "cell_type": "code",
   "execution_count": null,
   "id": "9d3b228c",
   "metadata": {},
   "outputs": [],
   "source": []
  },
  {
   "cell_type": "markdown",
   "id": "12c992c5",
   "metadata": {},
   "source": [
    "Q14) What do you understand by degree of variablity in ML?\n",
    "\n",
    "\n",
    "* In machine learning, the degree of variability refers to how well a machine learning model can generalize its performance on new and unseen data. It is a measure of the variance of a model's performance across different datasets or subsets of data."
   ]
  }
 ],
 "metadata": {
  "kernelspec": {
   "display_name": "Python 3 (ipykernel)",
   "language": "python",
   "name": "python3"
  },
  "language_info": {
   "codemirror_mode": {
    "name": "ipython",
    "version": 3
   },
   "file_extension": ".py",
   "mimetype": "text/x-python",
   "name": "python",
   "nbconvert_exporter": "python",
   "pygments_lexer": "ipython3",
   "version": "3.9.13"
  }
 },
 "nbformat": 4,
 "nbformat_minor": 5
}
