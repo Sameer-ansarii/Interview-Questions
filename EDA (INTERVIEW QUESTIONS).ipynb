{
 "cells": [
  {
   "cell_type": "markdown",
   "id": "884b57a5",
   "metadata": {},
   "source": [
    "What do you understand by standardization?\n",
    "\n",
    "If we don't standardize the data what will the problem occur?\n",
    "\n",
    "What are the types of scaling?\n",
    "\n",
    "What are the types of scalers we use in Machine Learning?\n",
    "\n",
    "What is normalization?\n",
    "\n",
    "Types of normalization.\n",
    "\n",
    "How we normalize our data?\n",
    "\n",
    "Difference between normalization and standardization?\n",
    "\n",
    "How to fill missing values?\n",
    "\n"
   ]
  },
  {
   "cell_type": "code",
   "execution_count": null,
   "id": "cbbfed5d",
   "metadata": {},
   "outputs": [],
   "source": []
  }
 ],
 "metadata": {
  "kernelspec": {
   "display_name": "Python 3 (ipykernel)",
   "language": "python",
   "name": "python3"
  },
  "language_info": {
   "codemirror_mode": {
    "name": "ipython",
    "version": 3
   },
   "file_extension": ".py",
   "mimetype": "text/x-python",
   "name": "python",
   "nbconvert_exporter": "python",
   "pygments_lexer": "ipython3",
   "version": "3.9.13"
  }
 },
 "nbformat": 4,
 "nbformat_minor": 5
}
