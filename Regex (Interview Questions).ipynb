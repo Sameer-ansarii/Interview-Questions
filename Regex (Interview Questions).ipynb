{
 "cells": [
  {
   "cell_type": "code",
   "execution_count": 1,
   "id": "4af2f3c2",
   "metadata": {},
   "outputs": [
    {
     "name": "stdout",
     "output_type": "stream",
     "text": [
      "Object `matching` not found.\n",
      "Object `JavaScript` not found.\n",
      "Object `address` not found.\n",
      "Object `performance` not found.\n",
      "Object `expressions` not found.\n",
      "Object `expressions` not found.\n",
      "Object `expressions` not found.\n"
     ]
    }
   ],
   "source": [
    "\n",
    "\n",
    "What are some tips for optimizing regular expressions for performance?\n",
    "What is a lookahead assertion, and how do you use it in regular expressions?\n",
    "Can you explain the difference between positive and negative lookbehind assertions in regular expressions?"
   ]
  },
  {
   "cell_type": "markdown",
   "id": "c2ba9a65",
   "metadata": {},
   "source": [
    "Q1) What is Regular Expression?\n",
    "\n",
    "* A regular expression, also known as regex, is a special sequence of characters that defines a search pattern to find a string or set of strings, such as a word or a sentence.\n",
    "\n",
    "\n",
    "* Regular expression is a search pattern.\n",
    "\n",
    "\n",
    "* It can be used to detect the presence or absence of a text by a given search pattern, and it can detect one or more search patterns.\n",
    "\n",
    "\n",
    "* After detecting the pattern, regular expressions can also replace or manipulate the matched strings based on the given pattern, as well as split the text into one or more subpatterns.\n",
    "\n",
    "\n",
    "* A regular expression is a pattern of characters that is used to match and manipulate text. It is a sequence of characters and metacharacters that represent a set of rules to match one or more strings of text."
   ]
  },
  {
   "cell_type": "code",
   "execution_count": null,
   "id": "4ddbc766",
   "metadata": {},
   "outputs": [],
   "source": []
  },
  {
   "cell_type": "markdown",
   "id": "7a7179a7",
   "metadata": {},
   "source": [
    "Q2) How to use regular expression in python\n",
    "\n",
    "\n",
    "* 're' is a in-built Python library which is used to work with regular expressions.\n",
    "\n",
    "\n",
    "* To use regular expressions in Python, you first need to import the re module."
   ]
  },
  {
   "cell_type": "code",
   "execution_count": null,
   "id": "d6380a90",
   "metadata": {},
   "outputs": [],
   "source": []
  },
  {
   "cell_type": "markdown",
   "id": "af06e7df",
   "metadata": {},
   "source": [
    "Q3) What are the use of Regular Expressions?\n",
    "\n",
    "\n",
    "* Search and replace: You can use regular expressions to search for a pattern in a string and replace it with another string.\n",
    "\n",
    "\n",
    "* Text validation: Regular expressions can be used to validate whether a given string conforms to a specific pattern or format. For example, you could use regular expressions to check whether an email address or phone number is formatted correctly.\n",
    "\n",
    "\n",
    "* Data extraction / Web Scrapping: You can use regular expressions to extract specific data from a larger body of text. For example, you could use regular expressions to extract all of the URLs from an HTML file or you can extract a specific thing from a website.\n",
    "\n",
    "\n",
    "* Parsing and tokenization: Regular expressions can be used to break a string down into smaller pieces or tokens, based on specific patterns or delimiters.\n",
    "\n",
    "\n",
    "* Cleaning and preprocessing: Regular expressions can be used to clean and preprocess text data, such as removing unwanted characters or formatting, before further analysis.\n",
    "\n",
    "\n",
    "* File handling: Regular expressions can be used to search for patterns within a file, such as finding all instances of a specific word or phrase within a text document."
   ]
  },
  {
   "cell_type": "code",
   "execution_count": null,
   "id": "ed775fd3",
   "metadata": {},
   "outputs": [],
   "source": []
  },
  {
   "cell_type": "markdown",
   "id": "4a40b6dd",
   "metadata": {},
   "source": [
    "Q4) What is the difference between greedy and non-greedy matching / approach / regex?\n",
    "\n",
    "\n",
    "* Greedy Approach: In regular expressions, metacharacters like *, +, and { } are greedy by default, which means they try to match as many characters as possible. This means that the pattern will continue to match as many characters as possible, even if it results in a longer overall match.\n",
    "\n",
    "\n",
    "* Non-Greedy Approach: Non-greedy(also known as lazy), match as few characters as possible. You can make a greedy regex to non-greedy by appending a ? to it. This means that the pattern will stop matching as soon as it finds a match that satisfies the pattern, even if it results in a shorter overall match."
   ]
  },
  {
   "cell_type": "code",
   "execution_count": null,
   "id": "3ba843ba",
   "metadata": {},
   "outputs": [],
   "source": []
  },
  {
   "cell_type": "markdown",
   "id": "a7e51c99",
   "metadata": {},
   "source": [
    "Q5) Can you give an example of a regular expression pattern to match an email address?"
   ]
  },
  {
   "cell_type": "code",
   "execution_count": 15,
   "id": "8ac794f9",
   "metadata": {},
   "outputs": [
    {
     "name": "stdout",
     "output_type": "stream",
     "text": [
      "Match found: jane.doe@example.com\n",
      "Match found: john_smith123@gmail.com\n",
      "Match found: jane.doe@example.co.uk\n"
     ]
    }
   ],
   "source": [
    "import re\n",
    "\n",
    "email_pattern = '^.*@.*\\.com$|^.*@.*'\n",
    "\n",
    "email1 = 'jane.doe@example.com'\n",
    "email2 = 'john_smith123@gmail.com'\n",
    "email3 = 'jane.doe@example.co.uk'\n",
    "\n",
    "match1 = re.search(email_pattern, email1)\n",
    "match2 = re.search(email_pattern, email2)\n",
    "match3 = re.search(email_pattern, email3)\n",
    "\n",
    "if match1:\n",
    "    print('Match found:', match1.group())\n",
    "else:\n",
    "    print('No match found')\n",
    "\n",
    "if match2:\n",
    "    print('Match found:', match2.group())\n",
    "else:\n",
    "    print('No match found')\n",
    "\n",
    "if match3:\n",
    "    print('Match found:', match3.group())\n",
    "else:\n",
    "    print('No match found')\n"
   ]
  },
  {
   "cell_type": "code",
   "execution_count": null,
   "id": "776eec2f",
   "metadata": {},
   "outputs": [],
   "source": []
  },
  {
   "cell_type": "markdown",
   "id": "613e4cc4",
   "metadata": {},
   "source": [
    "Q6) How do you handle escaping special characters in regular expressions?\n",
    "\n",
    "\n",
    "* In regular expressions, certain characters are used as metacharacters to represent special meanings, such as . to match any character and + to match one or more occurrences of the preceding character. To match these characters literally, you need to escape them using a backslash \\ or use square brackests [ ].\n"
   ]
  },
  {
   "cell_type": "code",
   "execution_count": null,
   "id": "6a3f80ac",
   "metadata": {},
   "outputs": [],
   "source": []
  }
 ],
 "metadata": {
  "kernelspec": {
   "display_name": "Python 3 (ipykernel)",
   "language": "python",
   "name": "python3"
  },
  "language_info": {
   "codemirror_mode": {
    "name": "ipython",
    "version": 3
   },
   "file_extension": ".py",
   "mimetype": "text/x-python",
   "name": "python",
   "nbconvert_exporter": "python",
   "pygments_lexer": "ipython3",
   "version": "3.9.13"
  }
 },
 "nbformat": 4,
 "nbformat_minor": 5
}
