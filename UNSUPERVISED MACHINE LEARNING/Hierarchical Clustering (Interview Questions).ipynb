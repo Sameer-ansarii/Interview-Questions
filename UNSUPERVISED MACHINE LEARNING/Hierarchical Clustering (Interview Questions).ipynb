{
 "cells": [
  {
   "cell_type": "markdown",
   "id": "9cd4176c",
   "metadata": {},
   "source": [
    "Q)  What is hierarchical clustering?\n",
    "\n",
    "* It is a algorithm used in unsupervised machine learning to form clusters of a dataset, based on the similarities of a datapoints.\n",
    "\n",
    "\n",
    "* It creates a hierarchy of clusters by merging or splitting datapoints based on the distance between them.\n",
    "\n",
    "\n",
    "* It creates a tree-like hierarchy of clusters, also known as a dendrogram, by successively merging or splitting clusters based on the distance between them.\n",
    "\n",
    "\n",
    "* Hierarchical clustering does not require the number of clusters to be specified before, like K-means clustering.\n",
    "\n",
    "\n",
    "* It can work with different distance metrics, such as Euclidean distance, Manhattan distance, and cosine distance, not like K-Means clustering which always use euclidean distance."
   ]
  },
  {
   "cell_type": "code",
   "execution_count": null,
   "id": "519b210b",
   "metadata": {},
   "outputs": [],
   "source": []
  },
  {
   "cell_type": "markdown",
   "id": "2c5124e2",
   "metadata": {},
   "source": [
    "Q) Limitations of heirarchical clustering.\n",
    "\n",
    "\n",
    "1) It can be computationally expensive, working with large datasets because it create clusters by merging or splitting individual data points. The algorithm needs to calculate the distance between all pairs of data points to build the dendrogram, which can be time-consuming and memory-intensive for large datasets.\n",
    "\n",
    "\n",
    "2) Heirarchical clustering is not robust to outliers. It means, if the outliers are present in the dataset algorithm will misclassify them and their may be a chance that outliers are go to the another cluster. If the outliers are present it will creates more branches in dendogram, which results in long and thin clusters which is difficult to understand and select the optimal number of clusters.\n",
    "\n",
    "\n",
    "3) Choice of distance metric: Their are 3 types of distance metrics used in heirarchical clustering such as Euclidean distance, Manhattan distance, and cosine distance and choosing the correct distance metric is important to form good clusters.\n",
    "\n",
    "\n",
    "4) Usually we can not use this with large datasets because it is computationally expensive due to it's lengthy process and takes more time to form clusters than other algorithms."
   ]
  },
  {
   "cell_type": "code",
   "execution_count": null,
   "id": "fc389509",
   "metadata": {},
   "outputs": [],
   "source": []
  },
  {
   "cell_type": "markdown",
   "id": "a605ee7e",
   "metadata": {},
   "source": [
    "Q) Type of Heirarchical Clustering.\n",
    "\n",
    "Their are 2 types of heirarchical clustering. \n",
    "\n",
    "1) Agglomerative Clustering (bottom-up): It assumes that each individual data point is a cluster. Then it will merges the 2 closest clusters into one cluster. The next closest clusters are grouped together and this process continues until there is only one cluster containing the entire data set.\n",
    "\n",
    "\n",
    "2) Divisive Clutering (top-down): It is the opposite of agglomerative clustering. It assumes whole dataset as a single cluster. It splits the single cluster into smaller clusters, it splits the data points which are closest to each other and make seprate clusters. This process is recurisevly repeating untill all data points are seprated. The clusters form are equivalent to total number of data points."
   ]
  },
  {
   "cell_type": "markdown",
   "id": "72501881",
   "metadata": {},
   "source": [
    "Divisive Clustering:-\n",
    "\n",
    "1) It is opposite to agglomerative clustering.\n",
    "\n",
    "\n",
    "2) It starts by treating all data points as a single cluster.\n",
    "\n",
    "\n",
    "3) Then continuously it splits ot break the cluster into smaller clusters untill each data data point belongs to its own cluster.\n",
    "\n",
    "\n",
    "4) The splitting process can be visualize by a dendogram.\n",
    "\n",
    "\n",
    "5) We usually use agglomerative clustering rather than divisive clustering because it is easy to merge data points rather than break or split them."
   ]
  },
  {
   "cell_type": "code",
   "execution_count": null,
   "id": "f3f8d8d1",
   "metadata": {},
   "outputs": [],
   "source": []
  },
  {
   "cell_type": "markdown",
   "id": "d66e672e",
   "metadata": {},
   "source": [
    "Q) What is the difference between agglomerative and divisive hierarchical clustering?\n",
    "\n",
    "1) Agglomerative clustering is a bottom-up approach where each data point starts in its own cluster, and pairs of clusters are merged until all clusters become one. \n",
    "\n",
    "\n",
    "2) Divisive clustering is a top-down approach where all data points start in one cluster, and clusters are recursively divided until each cluster contains only one data point.\n"
   ]
  },
  {
   "cell_type": "code",
   "execution_count": null,
   "id": "19e69296",
   "metadata": {},
   "outputs": [],
   "source": []
  },
  {
   "cell_type": "markdown",
   "id": "210bba4a",
   "metadata": {},
   "source": [
    "Q) What is dendrogram?\n",
    "\n",
    "* A dendrogram is a diagram that shows the hierarchical relationship between clusters in a hierarchical clustering algorithm.\n",
    "\n",
    "\n",
    "* It is a tree-like diagram that displays the order and distance between clusters.\n",
    "\n",
    "\n",
    "* The dendrogram is constructed by successively merging or splitting clusters based on the distance between them.\n",
    "\n",
    "\n",
    "* The distance between the clusters is represented by the length of the vertical lines that connects the clusters.\n",
    "\n",
    "\n",
    "* The longer the vertical line, the greater the distance between the clusters.\n",
    "\n",
    "\n",
    "* The dendrogram can be used to visualize the structure of the clusters and help identify the optimal number of clusters for the given dataset.\n",
    "\n",
    "\n",
    "I.A:- A dendrogram is a tree-like diagram that shows the hierarchical relationship between clusters in hierarchical clustering. It is used to visualize the results of clustering and can help determine the optimal number of clusters to use."
   ]
  },
  {
   "attachments": {
    "sphx_glr_plot_agglomerative_dendrogram_001.png": {
     "image/png": "[encoded data removed]"
    }
   },
   "cell_type": "markdown",
   "id": "55fd7453",
   "metadata": {},
   "source": [
    "![sphx_glr_plot_agglomerative_dendrogram_001.png](attachment:sphx_glr_plot_agglomerative_dendrogram_001.png)"
   ]
  },
  {
   "cell_type": "code",
   "execution_count": null,
   "id": "2f97babe",
   "metadata": {},
   "outputs": [],
   "source": []
  },
  {
   "cell_type": "markdown",
   "id": "1472a890",
   "metadata": {},
   "source": [
    "Q) How do you determine the optimal number of clusters in hierarchical clustering?\n",
    "\n",
    "\n",
    "* The optimal number of clusters can be determined by examining the dendrogram and looking for the largest vertical distance that does not intersect any clusters."
   ]
  },
  {
   "cell_type": "code",
   "execution_count": null,
   "id": "217e7808",
   "metadata": {},
   "outputs": [],
   "source": []
  },
  {
   "cell_type": "markdown",
   "id": "7919bacd",
   "metadata": {},
   "source": [
    "Q) What are the advantages of hierarchical clustering over other clustering methods?\n",
    "\n",
    "* Hierarchical clustering produces a hierarchical structure of clusters that can be useful in understanding the relationships between data points. \n",
    "\n",
    "\n",
    "* It can also be more easier to understand."
   ]
  },
  {
   "cell_type": "code",
   "execution_count": null,
   "id": "392c160c",
   "metadata": {},
   "outputs": [],
   "source": []
  },
  {
   "cell_type": "markdown",
   "id": "1252ca10",
   "metadata": {},
   "source": [
    "Q) What are some applications of hierarchical clustering in real-world scenarios?\n",
    "\n",
    "* Hierarchical clustering can be used in a variety of applications, such as image segmentation, gene expression analysis, market segmentation, and social network analysis. \n",
    "\n",
    "\n",
    "* It can also be used for anomaly detection, outlier detection, and fraud detection."
   ]
  },
  {
   "cell_type": "code",
   "execution_count": null,
   "id": "48366fa9",
   "metadata": {},
   "outputs": [],
   "source": []
  },
  {
   "cell_type": "markdown",
   "id": "980074d0",
   "metadata": {},
   "source": [
    "Q) What are some common preprocessing steps that can be applied before performing hierarchical clustering?\n",
    "\n",
    "\n",
    "* Common preprocessing steps include standardization or normalization of the data to account for differences in scale, handling missing data by imputation or removal, and feature selection or dimensionality reduction to reduce the number of variables. These steps can help improve the quality of the clustering results and reduce the impact of irrelevant or noisy data."
   ]
  },
  {
   "cell_type": "code",
   "execution_count": null,
   "id": "465beacf",
   "metadata": {},
   "outputs": [],
   "source": []
  },
  {
   "cell_type": "markdown",
   "id": "e77b7b77",
   "metadata": {},
   "source": [
    "Q) How can you determine the optimal number of clusters in hierarchical clustering?\n",
    "\n",
    "* There are several methods for determining the optimal number of clusters, such as the elbow method, silhouette analysis, and dendrogram visualization."
   ]
  },
  {
   "cell_type": "code",
   "execution_count": null,
   "id": "5383e661",
   "metadata": {},
   "outputs": [],
   "source": []
  },
  {
   "cell_type": "markdown",
   "id": "4e364663",
   "metadata": {},
   "source": [
    "Q) What is Linkage in heirarchical clustering and thier types?\n",
    "\n",
    "Linkage is a parameter in hierarchical clustering that is used to determine how the distance between two clusters is calculated.\n",
    "\n",
    "1) Single linkage, also known as minimum linkage, considers the shortest distance between two points in each cluster when merging two clusters. It is sensitive to noise and outliers, and it tends to produce long, chain-like clusters.\n",
    "\n",
    "\n",
    "2) complete linkage, also known as maximum linkage, considers the longest distance between two points in each cluster when merging two clusters. It is less sensitive to noise and outliers, and it tends to produce compact, spherical clusters.\n",
    "\n",
    "\n",
    "3) Average linkage, which takes the average distance between all pairs of points in each cluster. It will replace the limitations of single and complete linkage.  \n",
    "\n",
    "\n",
    "4) Ward linkage, which minimizes the sum of squared distances within each cluster. It will use where all types of linkage will fail and by default in scikit-learn the linkage='ward'."
   ]
  },
  {
   "cell_type": "code",
   "execution_count": null,
   "id": "d2571039",
   "metadata": {},
   "outputs": [],
   "source": []
  },
  {
   "cell_type": "markdown",
   "id": "b9f89696",
   "metadata": {},
   "source": [
    "Q) What is single linkage and complete linkage? Difference between them.\n",
    "\n",
    "Single linkage and complete linkage are two different methods used in hierarchical clustering to measure the distance between clusters. Here are some key differences between the two:\n",
    "\n",
    "1) Single linkage(min)\n",
    "\n",
    "\n",
    "* Single linkage measures the distance between the closest points in two clusters.\n",
    "\n",
    "\n",
    "* It produce long clusters. It means the distance of clusters are more.\n",
    "\n",
    "\n",
    "* It is sensitive to noise and outliers.\n",
    "\n",
    "\n",
    "2) Complete linkage(max)\n",
    "\n",
    "\n",
    "* Complete linkage measures the distance between the farthest points in two clusters.\n",
    "\n",
    "\n",
    "* It tends to produce close clusters. It means the distance between clusters is less.\n",
    "\n",
    "\n",
    "* It is less sensitive to noise and outliers.\n",
    "\n",
    "\n",
    "In simple words, single linkage is a method that tries to join clusters together based on the distance between their closest points, while complete linkage tries to join clusters together based on the distance between their farthest points. Single linkage tends to produce more scattered clusters, while complete linkage tends to produce more compact clusters.\n",
    "\n",
    "\n",
    "I.A:- Single linkage clustering merges two clusters based on the minimum distance between any two points, while complete linkage clustering merges two clusters based on the maximum distance between any two points. Single linkage tends to produce elongated clusters, while complete linkage tends to produce more compact clusters."
   ]
  },
  {
   "cell_type": "code",
   "execution_count": null,
   "id": "9e566b45",
   "metadata": {},
   "outputs": [],
   "source": []
  },
  {
   "cell_type": "markdown",
   "id": "643b7434",
   "metadata": {},
   "source": [
    "Q) How ward linkage works?\n",
    "\n",
    "1) It calculates the 'sum of squared differences' or 'squared Euclidean distance' between each data point in two clusters and initializes the centroid at that position.\n",
    "\n",
    "\n",
    "2) Then it calculates the mean of individual clusters and initializes the centroid at that position within the cluster.\n",
    "\n",
    "\n",
    "3) It then subtracts the distance between data points and their centroids. This is done for both clusters.\n",
    "\n",
    "\n",
    "4) It also subtracts the distance of data points of an individual cluster to the centroid of both clusters.\n",
    "\n",
    "\n",
    "5) This process is done for all clusters, and the resulting values are compared. The cluster with the lowest value is merged with another cluster.\n",
    "\n",
    "\n",
    "6) 'Sum of squared differences' or 'squared Euclidean distance' are same thing and their formulas are also same which is SSD(x,y) = ∑(xi - yi)² and d²(x,y) = ∑(xi - yi)²."
   ]
  },
  {
   "cell_type": "code",
   "execution_count": null,
   "id": "540a9021",
   "metadata": {},
   "outputs": [],
   "source": []
  }
 ],
 "metadata": {
  "kernelspec": {
   "display_name": "Python 3 (ipykernel)",
   "language": "python",
   "name": "python3"
  },
  "language_info": {
   "codemirror_mode": {
    "name": "ipython",
    "version": 3
   },
   "file_extension": ".py",
   "mimetype": "text/x-python",
   "name": "python",
   "nbconvert_exporter": "python",
   "pygments_lexer": "ipython3",
   "version": "3.9.13"
  }
 },
 "nbformat": 4,
 "nbformat_minor": 5
}
