{
 "cells": [
  {
   "cell_type": "markdown",
   "id": "44c4f042",
   "metadata": {},
   "source": [
    "Q) What is Clustering and where to use it in real world?\n",
    "\n",
    "* Clustering a technique to grouping the data points into different groups called clusters based on their similarities. It can be used to solve real-world problems in different fields.\n",
    "\n",
    "\n",
    "Clustering is a widely used technique in various real-world applications across different domains. Here are some examples:-\n",
    "\n",
    "\n",
    "1) Customer Segmentation: Clustering can be used to group customers based on their preferences, behavior, and demographics. This information can be used to target specific customer segments with personalized marketing campaigns.\n",
    "\n",
    "\n",
    "2) Cross Selling and Upselling: Clustering can be used to group customers based on their past perforamce and then companies tries to cross sell and upsell their products to the customers which have good performace history.\n",
    "\n",
    "\n",
    "3) Recommendation Systems: It is used to create recommendation systems of e-commerce websites and OTT platforms like Netflix, Amazon Prime, etc. to provide recommendation of a product or video based on the past search of a product, movie respectively.\n",
    "\n",
    "\n",
    "4) Search Engine optimization: Clustering can be used to group content into different categories or topics, making it easier for users to find relevant information. Eg:- On new applications or website their are many kinds of news available, clustering can be used to group the news based on their category i.e sports news, crime news, weather news, etc.\n",
    "\n",
    "\n",
    "5) Resume Classification: In companies there are thousand's of people who applied for different job roles. Clustering can be used to group resumes based on the content of the resume, such as education, experience, skills, and achievements. This can help HR departments to automatically categorize and filter resumes for specific job roles, saving time and effort in the recruitment process. Once resumes are clustered, the HR department can easily target specific clusters for specific job openings. Moreover, clustering can also help to identify top candidates based on their resume content, enabling HR to focus on the most qualified candidates."
   ]
  },
  {
   "cell_type": "code",
   "execution_count": null,
   "id": "8353232e",
   "metadata": {},
   "outputs": [],
   "source": []
  },
  {
   "cell_type": "markdown",
   "id": "7e3b2e93",
   "metadata": {},
   "source": [
    "Q) What are the different machine learning algorithms used for clustering ?\n",
    "\n",
    "There are several machine learning algorithms used for clustering, some of which are:\n",
    "\n",
    "1) K-means Clustering: It is one of the most popular clustering algorithms used in machine learning. It aims to partition the dataset into k clusters, where k is the number of clusters specified by the user.\n",
    "\n",
    "\n",
    "2) Hierarchical Clustering: It is a clustering algorithm that creates a hierarchy of clusters. There are two types of hierarchical clustering algorithms: Agglomerative and Divisive. \n",
    "\n",
    "\n",
    "3) Density-based Clustering: Density-based clustering algorithms, such as DBSCAN(Density-Based Spatial Clustering of Applications with Noise.) and OPTICS, group data points based on their density. Data points that are close to each other and have high density are considered to be part of the same cluster."
   ]
  },
  {
   "cell_type": "code",
   "execution_count": null,
   "id": "b92b9605",
   "metadata": {},
   "outputs": [],
   "source": []
  },
  {
   "cell_type": "markdown",
   "id": "654c4951",
   "metadata": {},
   "source": [
    "Q) What will you do if you have labelled data and you have to perform unsupervised machine learning?\n",
    "\n",
    "* Drop the labelled feature: One approach is to drop the labelled feature from the dataset and perform unsupervised clustering on the remaining features. You can then compare the resulting clusters with the known labels to gain insights into the structure of the data. This can be useful for exploratory analysis.\n",
    "\n",
    "\n",
    "* Use the labelled feature as an input: Another approach is to include the labelled feature as an input to the clustering algorithm. In this case, the clustering algorithm will take into account both the labelled and unlabelled features to group similar data points together. This approach can be useful if the labelled feature is highly informative or if you want to use the clustering results to make predictions or build a classification model.\n",
    "\n",
    "\n",
    "Note:- This Approaches can perform in semi-supervised machine learning."
   ]
  },
  {
   "cell_type": "code",
   "execution_count": null,
   "id": "1630ed8c",
   "metadata": {},
   "outputs": [],
   "source": []
  },
  {
   "cell_type": "markdown",
   "id": "cb958830",
   "metadata": {},
   "source": [
    "Q)  What is K-Means Clustering and how does it work?\n",
    "\n",
    "K-Means Clustering is a popular unsupervised machine learning algorithm used for clustering data points into groups or clusters based on their similarity. The algorithm works by partitioning the dataset into K clusters, where K is the number of clusters specified by the user.\n",
    " \n",
    " \n",
    "The K-Means Clustering algorithm works as follows:\n",
    "\n",
    "\n",
    "1) Choose the number of clusters, K by the user.\n",
    "\n",
    "\n",
    "2) Initialize K centroids randomly.\n",
    "\n",
    "\n",
    "3) Measuring the euclidean distance between each data point and each centroid, then assisgn data point to the nearest centroid and form K number of clusters.\n",
    "\n",
    "\n",
    "4) Calculate the centroid of each cluster by taking the mean of data points present in a particular cluster.\n",
    "\n",
    "\n",
    "5) Then, the centroid of each cluster will move its position. Then, algorithm again measures the euclidean distance between each data point and each centroid and assign the data point to the nearest cluster.\n",
    "\n",
    "\n",
    "6) This process is iteratively repeated untill the position of centroids will fixed.\n"
   ]
  },
  {
   "cell_type": "code",
   "execution_count": null,
   "id": "c9ba3684",
   "metadata": {},
   "outputs": [],
   "source": []
  },
  {
   "cell_type": "markdown",
   "id": "dc1a4877",
   "metadata": {},
   "source": [
    "Q) How to check or measure the quality of clusters?\n",
    "\n",
    "* The quality of the clustering is measured using the within-cluster sum of squares (WCSS), which represents the sum of the squared distance between each data point and its assigned centroid. The goal of the algorithm is to minimize the WCSS by creating clusters that are compact and well-separated. It means the WCSS of the cluster is low and the distance between clusters are high, consider as a good model."
   ]
  },
  {
   "cell_type": "code",
   "execution_count": null,
   "id": "db8ad96c",
   "metadata": {},
   "outputs": [],
   "source": []
  },
  {
   "cell_type": "markdown",
   "id": "c7bbd7f3",
   "metadata": {},
   "source": [
    "Q) What is inter-cluster distance and intra-cluster distance? \n",
    "\n",
    "\n",
    "* Intra-cluster Distance:- Intra-cluster distance is the distance between all the data points to its centroid within the same cluster. It is a measure of how tightly packed the data points are within a cluster, and it is typically measured using Euclidean distance or some other distance metric. The smaller the intra-cluster distance, the more similar the data points are to each other, and the more compact the cluster is.\n",
    "\n",
    "\n",
    "* Inter-Cluster Distance: Inter-cluster distance, is the distance between the centroids of two different clusters. It is a measure of dissimilarity between different clusters, and it is also typically measured using Euclidean distance or some other distance metric. The larger the inter-cluster distance, the more dissimilar the data points in different clusters are to each other, and the more separated the clusters are.\n",
    "\n",
    "\n",
    "In summary:\n",
    "\n",
    "* Intra-cluster distance: distance between data points and the centroid of the same cluster, measure of how tightly packed the data points are within a cluster.\n",
    "\n",
    "\n",
    "* Inter-cluster distance: distance between the centroids of different clusters, measure of how separated different clusters are.\n",
    "\n",
    "\n",
    "* Model is consider to be good, when intra-cluster distance should be less and inter-cluster distance should be high."
   ]
  },
  {
   "cell_type": "code",
   "execution_count": null,
   "id": "e756eccb",
   "metadata": {},
   "outputs": [],
   "source": []
  },
  {
   "cell_type": "markdown",
   "id": "bbfc7688",
   "metadata": {},
   "source": [
    "Q) What is the objective function of K-means clustering?\n",
    "\n",
    "* The objective function of K-means clustering is to minimize the within-cluster sum of squares (WCSS), which is the sum of the squared distances between each data point and the centroid of its assigned cluster."
   ]
  },
  {
   "cell_type": "code",
   "execution_count": null,
   "id": "f4a26a2a",
   "metadata": {},
   "outputs": [],
   "source": []
  },
  {
   "cell_type": "markdown",
   "id": "7d41248b",
   "metadata": {},
   "source": [
    "Q) Does the clusters overlap?\n",
    "\n",
    "* No."
   ]
  },
  {
   "cell_type": "code",
   "execution_count": null,
   "id": "8277b3d5",
   "metadata": {},
   "outputs": [],
   "source": []
  },
  {
   "cell_type": "markdown",
   "id": "67983033",
   "metadata": {},
   "source": [
    "How do you select the optimal number of clusters in K-means clustering?\n",
    "\n",
    "1) Elbow Method: The optimal number of clusters in K-means clustering can be selected using the elbow method, which involves plotting the WCSS as a function of the number of clusters and selecting the number of clusters where the rate of decrease in WCSS begins to slow down.\n",
    "\n",
    "\n",
    "2) Silhouette Analysis: It is a method for evaluating the quality of clusters. Silhouette Analysis provides a score between -1 to +1. The value closer to +1 indicates the better quality cluster. It can be used to find the optimal number of clusters by average the silhouette score of clusters. Example:- We compare the all silhouette scores for possible number of clusters and for which number of clusters silhouette score is high we consider that number of clusters as a optimal number.\n",
    "\n",
    "\n",
    "* We can calculate the average silhouette score for different values of K and choose the value of K that maximizes the score. The optimal number of clusters is that which have the highest average silhouette score. This approach is useful in cases where the elbow method is inconclusive or unclear. "
   ]
  },
  {
   "cell_type": "code",
   "execution_count": null,
   "id": "e10550c6",
   "metadata": {},
   "outputs": [],
   "source": []
  },
  {
   "cell_type": "markdown",
   "id": "44ea9195",
   "metadata": {},
   "source": [
    "Q) What is elbow method?\n",
    "\n",
    "\n",
    "* The elbow method is used in K-means clustering to identify the optimal number of clusters to use for a given dataset.\n",
    "\n",
    "\n",
    "* The method works by plotting the within-cluster sum of squares(WCSS) on y-axis againt the number of clusters on x-axis.\n",
    "\n",
    "\n",
    "* The WCSS is the sum of the squared distances between each data point and the centroid of its assigned cluster. As the number of clusters increases, the WCSS tends to decrease because the data points are closer to their respective centroids.\n",
    "\n",
    "\n",
    "* The elbow method involves visually inspecting the plot and identifying the point of inflection or \"elbow\" where the rate of decrease in WCSS begins to slow down. The number of clusters corresponding to this point is considered to be the optimal number of clusters for the given dataset."
   ]
  },
  {
   "cell_type": "code",
   "execution_count": null,
   "id": "b90390d9",
   "metadata": {},
   "outputs": [],
   "source": []
  },
  {
   "cell_type": "markdown",
   "id": "a4ef9041",
   "metadata": {},
   "source": []
  }
 ],
 "metadata": {
  "kernelspec": {
   "display_name": "Python 3 (ipykernel)",
   "language": "python",
   "name": "python3"
  },
  "language_info": {
   "codemirror_mode": {
    "name": "ipython",
    "version": 3
   },
   "file_extension": ".py",
   "mimetype": "text/x-python",
   "name": "python",
   "nbconvert_exporter": "python",
   "pygments_lexer": "ipython3",
   "version": "3.9.13"
  }
 },
 "nbformat": 4,
 "nbformat_minor": 5
}
