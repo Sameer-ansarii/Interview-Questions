{
 "cells": [
  {
   "cell_type": "markdown",
   "id": "884b57a5",
   "metadata": {},
   "source": [
    "What do you understand by standardization?\n",
    "\n",
    "If we don't standardize the data what will the problem occur?\n",
    "\n",
    "What are the types of scaling?\n",
    "\n",
    "What are the types of scalers we use in Machine Learning?\n",
    "\n",
    "What is normalization?\n",
    "\n",
    "Types of normalization.\n",
    "\n",
    "How we normalize our data?\n",
    "\n",
    "Difference between normalization and standardization?\n",
    "\n",
    "How to fill missing values?\n",
    "\n"
   ]
  },
  {
   "cell_type": "code",
   "execution_count": null,
   "id": "1f0bf576",
   "metadata": {},
   "outputs": [],
   "source": []
  },
  {
   "cell_type": "markdown",
   "id": "8c5b6971",
   "metadata": {},
   "source": [
    "Q) If you have bad data means there are unwanted characters in your column, such as '>', '?', '=', etc. These character represents null values. What will you do to find all null values in the data?\n",
    "\n",
    "\n",
    "* We can replace the unwanted characters with np.nan and then use the df.isnull() function to identify the null values in each column. \n",
    "\n",
    "\n",
    "* np.nan function replace unwanted characters with 'nan' means not a number, which indicates a null value. "
   ]
  },
  {
   "cell_type": "code",
   "execution_count": null,
   "id": "f32f1ec3",
   "metadata": {},
   "outputs": [],
   "source": []
  },
  {
   "cell_type": "markdown",
   "id": "a32ddd97",
   "metadata": {},
   "source": [
    "Q) How to remove unwanted characters from column where values of column looks like 50,00,000."
   ]
  },
  {
   "cell_type": "raw",
   "id": "7018d3a0",
   "metadata": {},
   "source": [
    "# Remove unwanted characters\n",
    "df['Column'] = df['Column'].str.replace(',', '')\n",
    "\n",
    "# Convert column to numeric data type\n",
    "df['Column'] = pd.to_numeric(df['Column'], errors='coerce')"
   ]
  },
  {
   "cell_type": "markdown",
   "id": "21adf88c",
   "metadata": {},
   "source": [
    "1) The str.replace() function is used to remove the commas (,) and unwanted characters from the 'Column'. This is done by replacing the commas with an empty string '' here.\n",
    "\n",
    "\n",
    "2) Next, the pd.to_numeric() function is used to convert the column to a numeric data type.\n",
    "\n",
    "\n",
    "3) The errors='coerce' parameter handles any values that cannot be converted to numeric, such as non-numeric value and characters or missing values, by replacing them with NaN (Not a Number)."
   ]
  },
  {
   "cell_type": "code",
   "execution_count": null,
   "id": "43981665",
   "metadata": {},
   "outputs": [],
   "source": []
  }
 ],
 "metadata": {
  "kernelspec": {
   "display_name": "Python 3 (ipykernel)",
   "language": "python",
   "name": "python3"
  },
  "language_info": {
   "codemirror_mode": {
    "name": "ipython",
    "version": 3
   },
   "file_extension": ".py",
   "mimetype": "text/x-python",
   "name": "python",
   "nbconvert_exporter": "python",
   "pygments_lexer": "ipython3",
   "version": "3.9.13"
  }
 },
 "nbformat": 4,
 "nbformat_minor": 5
}
