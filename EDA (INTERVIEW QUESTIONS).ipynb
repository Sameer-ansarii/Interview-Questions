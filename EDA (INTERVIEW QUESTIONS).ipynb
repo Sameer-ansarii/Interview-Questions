{
 "cells": [
  {
   "cell_type": "markdown",
   "id": "31ccfcce",
   "metadata": {},
   "source": [
    "### Q) How to fill null values?\n",
    "\n",
    "There are several ways to impute null values.\n",
    "\n",
    "1) We can impute null values by measures of central tendency (Mean, Median and Mode). We first check for the outliers if outliers are present in the data then mean is not appropriate to fill null values. \n",
    "\n",
    "\n",
    "2) We can use backward filling and forwarding filling method to fill null values, which means impute null values with the next previous observation's value or with the next observation's value.\n",
    "\n",
    "\n",
    "3) We can make a regression model to predict the values using regression algorithms, such as linear regression, random forest regressor, etc.\n",
    "\n",
    "\n",
    "4) We can use domian knowledge to fill null values.\n",
    "\n",
    "\n",
    "5) We can imput null values with the client's help."
   ]
  },
  {
   "cell_type": "code",
   "execution_count": null,
   "id": "b9ba5ccc",
   "metadata": {},
   "outputs": [],
   "source": []
  },
  {
   "cell_type": "markdown",
   "id": "bdcfc22b",
   "metadata": {},
   "source": [
    "### Q) How to deal with categorical variables in machine learning or How to convert them into Numerical?\n",
    "\n",
    "Our Machine Learning model do not understand the categorical data that's why converting categorical data into numerical is necessary. There are several techniques by which we can convert our categorical data into numerical, such as:- \n",
    "\n",
    "1) Label Encoder :- Label Encoder convert each category of a variable into a number. Eg:- We have 5 categories in a variable, so label encoder labels categories into a sequence, such as 0,1,2,3,4.\n",
    "\n",
    "\n",
    "2) df.replace():- Using df.replace() function we can convert each category into any number by our choice.\n",
    "\n",
    "\n",
    "3) get_dummies / One Hot Encoding:- Get_dummies method create a new column for each category and the values in the column are 0 & 1. If the category is present for the particular observation then the value in column is 1, otherwise 0. In get_dummies method we remove original column and remove any one category's column to prevent it from multi-collinearty. \n",
    "\n",
    "\n",
    "4) Target-Mean Encoding:- It will convert a each category of a variable according to their mean in the target variable. For example:- We have a catergory, so we check how many times this category repeats in a variable and check their target variable value, then add all the values of target variable for the specific category and take it's mean. This category will replace by it's mean in the target variable."
   ]
  },
  {
   "cell_type": "code",
   "execution_count": null,
   "id": "42b633dd",
   "metadata": {},
   "outputs": [],
   "source": []
  },
  {
   "cell_type": "markdown",
   "id": "94beabd6",
   "metadata": {},
   "source": [
    "### Q) When to use get dummies methods, label encoder and target mean encoding?\n",
    "\n",
    "Using a specific encoding technique will depends on the nature of data.\n",
    "\n",
    "* When we have nomial categorical variable, it is recommended to use one hot encoding or get_dummies method.\n",
    "\n",
    "\n",
    "* When we have ordinal categorical variable, it is recommended to use Label encoder or df.replace() method.\n",
    "\n",
    "\n",
    "* When we have multiple unique categories in the variable, such as location. It is recommended to use target mean encoding."
   ]
  },
  {
   "cell_type": "code",
   "execution_count": null,
   "id": "621137f4",
   "metadata": {},
   "outputs": [],
   "source": []
  },
  {
   "cell_type": "markdown",
   "id": "386e7c06",
   "metadata": {},
   "source": [
    "### Q) What is disadvantage of get_dummies method or One hot encoding?\n",
    "\n",
    "\n",
    "* By using get_dummies or One Hot Encoding method the number of variables will increase. Eg: we have 4 categories in a column so it will make 4 column, 1 column for each category, and we genrally remove any 1 column so, we have total 3 columns. Due to more number of columns the chances of overfitting will increase."
   ]
  },
  {
   "cell_type": "code",
   "execution_count": null,
   "id": "d2c74827",
   "metadata": {},
   "outputs": [],
   "source": []
  },
  {
   "cell_type": "markdown",
   "id": "22260a77",
   "metadata": {},
   "source": [
    " ### Q) Can we apply same Scaling Method for all variables?\n",
    "\n",
    "* Yes, it is recommended to use same scaler because we want the range of all variables to be same. If the variable is already is the same range so we can not scale them. Eg: we have any binary variable so we can not scale them."
   ]
  },
  {
   "cell_type": "code",
   "execution_count": null,
   "id": "cb0a7c98",
   "metadata": {},
   "outputs": [],
   "source": []
  },
  {
   "cell_type": "markdown",
   "id": "3f2e6006",
   "metadata": {},
   "source": [
    "### Q) Can we apply same Encoding to encode all variable?\n",
    "No, it is not recommended to use same encosing technique for all variables. We can use multiple encoding techniques in a dateset it depends on the nature of variable."
   ]
  },
  {
   "cell_type": "code",
   "execution_count": null,
   "id": "154d639d",
   "metadata": {},
   "outputs": [],
   "source": []
  },
  {
   "cell_type": "code",
   "execution_count": null,
   "id": "bbf9630e",
   "metadata": {},
   "outputs": [],
   "source": []
  },
  {
   "cell_type": "code",
   "execution_count": null,
   "id": "82dc81e5",
   "metadata": {},
   "outputs": [],
   "source": []
  },
  {
   "cell_type": "code",
   "execution_count": null,
   "id": "9bd026d3",
   "metadata": {},
   "outputs": [],
   "source": []
  },
  {
   "cell_type": "code",
   "execution_count": null,
   "id": "338dd8af",
   "metadata": {},
   "outputs": [],
   "source": []
  },
  {
   "cell_type": "code",
   "execution_count": null,
   "id": "4b6230b7",
   "metadata": {},
   "outputs": [],
   "source": []
  },
  {
   "cell_type": "markdown",
   "id": "8c5b6971",
   "metadata": {},
   "source": [
    "### Q) If you have bad data means there are unwanted characters in your column, such as '>', '?', '=', etc. These character represents null values. What will you do to find all null values in the data?\n",
    "\n",
    "\n",
    "* We can replace the unwanted characters with np.nan and then use the df.isnull() function to identify the null values in each column. \n",
    "\n",
    "\n",
    "* np.nan function replace unwanted characters with 'nan' means not a number, which indicates a null value. "
   ]
  },
  {
   "cell_type": "code",
   "execution_count": null,
   "id": "f32f1ec3",
   "metadata": {},
   "outputs": [],
   "source": []
  },
  {
   "cell_type": "markdown",
   "id": "a32ddd97",
   "metadata": {},
   "source": [
    "### Q) How to remove unwanted characters from column where values of column looks like 50,00,000."
   ]
  },
  {
   "cell_type": "raw",
   "id": "7018d3a0",
   "metadata": {},
   "source": [
    "# Remove unwanted characters\n",
    "df['Column'] = df['Column'].str.replace(',', '')\n",
    "\n",
    "# Convert column to numeric data type\n",
    "df['Column'] = pd.to_numeric(df['Column'], errors='coerce')"
   ]
  },
  {
   "cell_type": "markdown",
   "id": "21adf88c",
   "metadata": {},
   "source": [
    "1) The str.replace() function is used to remove the commas (,) and unwanted characters from the 'Column'. This is done by replacing the commas with an empty string '' here.\n",
    "\n",
    "\n",
    "2) Next, the pd.to_numeric() function is used to convert the column to a numeric data type.\n",
    "\n",
    "\n",
    "3) The errors='coerce' parameter handles any values that cannot be converted to numeric, such as non-numeric value and characters or missing values, by replacing them with NaN (Not a Number)."
   ]
  },
  {
   "cell_type": "code",
   "execution_count": null,
   "id": "43981665",
   "metadata": {},
   "outputs": [],
   "source": []
  }
 ],
 "metadata": {
  "kernelspec": {
   "display_name": "Python 3 (ipykernel)",
   "language": "python",
   "name": "python3"
  },
  "language_info": {
   "codemirror_mode": {
    "name": "ipython",
    "version": 3
   },
   "file_extension": ".py",
   "mimetype": "text/x-python",
   "name": "python",
   "nbconvert_exporter": "python",
   "pygments_lexer": "ipython3",
   "version": "3.9.13"
  }
 },
 "nbformat": 4,
 "nbformat_minor": 5
}
