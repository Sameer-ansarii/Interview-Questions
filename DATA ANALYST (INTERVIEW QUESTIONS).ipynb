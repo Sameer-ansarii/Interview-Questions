{
 "cells": [
  {
   "cell_type": "markdown",
   "id": "5e5d6476",
   "metadata": {},
   "source": [
    "\n",
    "### Q) What is Time series analysis?\n",
    "\n",
    "Time series analysis is a statistical technique used to analysis data which is collect over the time. In time series analysis we identify the relationship, trends and pattern of data then draw conclusion based on it and make predict about the future value."
   ]
  },
  {
   "cell_type": "code",
   "execution_count": null,
   "id": "2025aae9",
   "metadata": {},
   "outputs": [],
   "source": []
  },
  {
   "cell_type": "markdown",
   "id": "4a326762",
   "metadata": {},
   "source": [
    "### Q) What is data joining and data blending?\n",
    "\n",
    "Data joining is the process of joing or merging the data of same source. Eg:- In sql or excel we join or merge 2 tables or 2 worksheets.\n",
    "\n",
    "Data blending is the process of combining the data of 2 or more different source. Eg:- We combine the data of SQL and oracle together. Data blending is done in Sql, Power Bi, Tableau by combine data of multiple souces."
   ]
  },
  {
   "cell_type": "code",
   "execution_count": null,
   "id": "5a3e1252",
   "metadata": {},
   "outputs": [],
   "source": []
  },
  {
   "cell_type": "markdown",
   "id": "44498870",
   "metadata": {},
   "source": [
    "### Q) What is significance of Exploratory Data Analysis?\n",
    "\n",
    "EDA is a process of exploring, understanding and analyizing the data and gain insights from it and pre-process the data for further tasks like model building. \n",
    "\n",
    "In EDA we analyze and understand the data and gain insight from it by visualizing the data and we also perform data cleaning, treating outliers, treating missing values, treating the distribution of data, etc.\n",
    "\n",
    "Hence EDA is a crucial step in data modelling, data analysis and model building."
   ]
  },
  {
   "cell_type": "code",
   "execution_count": null,
   "id": "0ac77839",
   "metadata": {},
   "outputs": [],
   "source": []
  },
  {
   "cell_type": "markdown",
   "id": "208e6473",
   "metadata": {},
   "source": [
    "### Q) What is data modelling?\n",
    "\n",
    "Data modelling is a process of organising the data in a proper and structured way to perform further tasks on it like data analysis, etc."
   ]
  },
  {
   "cell_type": "code",
   "execution_count": null,
   "id": "54acb448",
   "metadata": {},
   "outputs": [],
   "source": []
  },
  {
   "cell_type": "markdown",
   "id": "72cb6cc8",
   "metadata": {},
   "source": [
    "### Q) What is pivot table?\n",
    "\n",
    "Pivot Table is a function in Excel, pandas, SQL and other applications also. It is used to summarize and analyze data. We can customize rows, columns, values inside the table and perform many mathematical and aggregation functions on data. It is very useful in analysis when we deal with big data."
   ]
  },
  {
   "cell_type": "code",
   "execution_count": null,
   "id": "d7eabe42",
   "metadata": {},
   "outputs": [],
   "source": []
  }
 ],
 "metadata": {
  "kernelspec": {
   "display_name": "Python 3 (ipykernel)",
   "language": "python",
   "name": "python3"
  },
  "language_info": {
   "codemirror_mode": {
    "name": "ipython",
    "version": 3
   },
   "file_extension": ".py",
   "mimetype": "text/x-python",
   "name": "python",
   "nbconvert_exporter": "python",
   "pygments_lexer": "ipython3",
   "version": "3.9.13"
  }
 },
 "nbformat": 4,
 "nbformat_minor": 5
}
